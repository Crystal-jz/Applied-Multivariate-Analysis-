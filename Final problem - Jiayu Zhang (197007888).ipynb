{
 "cells": [
  {
   "cell_type": "code",
   "execution_count": 1,
   "metadata": {},
   "outputs": [],
   "source": [
    "from sklearn import datasets\n",
    "import pandas as pd\n",
    "from scipy.stats import distributions\n",
    "from scipy.stats import chi2, f, t, norm\n",
    "import numpy as np\n",
    "import statsmodels.api as sm\n",
    "from matplotlib import pyplot as plt\n",
    "from scipy import stats\n",
    "import seaborn as sns\n",
    "\n"
   ]
  },
  {
   "cell_type": "code",
   "execution_count": 2,
   "metadata": {
    "scrolled": false
   },
   "outputs": [
    {
     "data": {
      "text/html": [
       "<div>\n",
       "<style scoped>\n",
       "    .dataframe tbody tr th:only-of-type {\n",
       "        vertical-align: middle;\n",
       "    }\n",
       "\n",
       "    .dataframe tbody tr th {\n",
       "        vertical-align: top;\n",
       "    }\n",
       "\n",
       "    .dataframe thead th {\n",
       "        text-align: right;\n",
       "    }\n",
       "</style>\n",
       "<table border=\"1\" class=\"dataframe\">\n",
       "  <thead>\n",
       "    <tr style=\"text-align: right;\">\n",
       "      <th></th>\n",
       "      <th>Sepal length</th>\n",
       "      <th>Sepal width</th>\n",
       "      <th>Petal.Length</th>\n",
       "      <th>Petal.Width</th>\n",
       "    </tr>\n",
       "  </thead>\n",
       "  <tbody>\n",
       "    <tr>\n",
       "      <td>0</td>\n",
       "      <td>5.1</td>\n",
       "      <td>3.5</td>\n",
       "      <td>1.4</td>\n",
       "      <td>0.2</td>\n",
       "    </tr>\n",
       "    <tr>\n",
       "      <td>1</td>\n",
       "      <td>4.9</td>\n",
       "      <td>3.0</td>\n",
       "      <td>1.4</td>\n",
       "      <td>0.2</td>\n",
       "    </tr>\n",
       "    <tr>\n",
       "      <td>2</td>\n",
       "      <td>4.7</td>\n",
       "      <td>3.2</td>\n",
       "      <td>1.3</td>\n",
       "      <td>0.2</td>\n",
       "    </tr>\n",
       "    <tr>\n",
       "      <td>3</td>\n",
       "      <td>4.6</td>\n",
       "      <td>3.1</td>\n",
       "      <td>1.5</td>\n",
       "      <td>0.2</td>\n",
       "    </tr>\n",
       "    <tr>\n",
       "      <td>4</td>\n",
       "      <td>5.0</td>\n",
       "      <td>3.6</td>\n",
       "      <td>1.4</td>\n",
       "      <td>0.2</td>\n",
       "    </tr>\n",
       "    <tr>\n",
       "      <td>...</td>\n",
       "      <td>...</td>\n",
       "      <td>...</td>\n",
       "      <td>...</td>\n",
       "      <td>...</td>\n",
       "    </tr>\n",
       "    <tr>\n",
       "      <td>145</td>\n",
       "      <td>6.7</td>\n",
       "      <td>3.0</td>\n",
       "      <td>5.2</td>\n",
       "      <td>2.3</td>\n",
       "    </tr>\n",
       "    <tr>\n",
       "      <td>146</td>\n",
       "      <td>6.3</td>\n",
       "      <td>2.5</td>\n",
       "      <td>5.0</td>\n",
       "      <td>1.9</td>\n",
       "    </tr>\n",
       "    <tr>\n",
       "      <td>147</td>\n",
       "      <td>6.5</td>\n",
       "      <td>3.0</td>\n",
       "      <td>5.2</td>\n",
       "      <td>2.0</td>\n",
       "    </tr>\n",
       "    <tr>\n",
       "      <td>148</td>\n",
       "      <td>6.2</td>\n",
       "      <td>3.4</td>\n",
       "      <td>5.4</td>\n",
       "      <td>2.3</td>\n",
       "    </tr>\n",
       "    <tr>\n",
       "      <td>149</td>\n",
       "      <td>5.9</td>\n",
       "      <td>3.0</td>\n",
       "      <td>5.1</td>\n",
       "      <td>1.8</td>\n",
       "    </tr>\n",
       "  </tbody>\n",
       "</table>\n",
       "<p>150 rows × 4 columns</p>\n",
       "</div>"
      ],
      "text/plain": [
       "     Sepal length  Sepal width  Petal.Length  Petal.Width\n",
       "0             5.1          3.5           1.4          0.2\n",
       "1             4.9          3.0           1.4          0.2\n",
       "2             4.7          3.2           1.3          0.2\n",
       "3             4.6          3.1           1.5          0.2\n",
       "4             5.0          3.6           1.4          0.2\n",
       "..            ...          ...           ...          ...\n",
       "145           6.7          3.0           5.2          2.3\n",
       "146           6.3          2.5           5.0          1.9\n",
       "147           6.5          3.0           5.2          2.0\n",
       "148           6.2          3.4           5.4          2.3\n",
       "149           5.9          3.0           5.1          1.8\n",
       "\n",
       "[150 rows x 4 columns]"
      ]
     },
     "execution_count": 2,
     "metadata": {},
     "output_type": "execute_result"
    }
   ],
   "source": [
    "iris = datasets.load_iris()\n",
    "df = pd.DataFrame(iris.data)\n",
    "df.columns = ['Sepal length', 'Sepal width', 'Petal.Length', 'Petal.Width']\n",
    "df"
   ]
  },
  {
   "cell_type": "code",
   "execution_count": null,
   "metadata": {},
   "outputs": [],
   "source": []
  },
  {
   "cell_type": "markdown",
   "metadata": {},
   "source": [
    "## 1. Perform a PCA. Dscribe the proportion of variance explained for the first principal component, first two, and first three. Plot the projection of the dataset on the first two principal components, and the projection of the dataset on the first and third principal components\n",
    "\n",
    "### (a) The proportion\n",
    "I use the formula \n",
    "$\\frac{\\widehat{\\lambda_i}}{\\widehat{\\lambda_1}+\\widehat{\\lambda_2}+...+\\widehat{\\lambda_p}}$ to compute the proportion and the result is that:\n",
    "(1)Proportion of population variance explained for the first principal component is 0.7296; (2) Proportion of population variance explained for the first two component is 0.9581; (3) Proportion of population variance explained for the first three component is 0.9948.\n"
   ]
  },
  {
   "cell_type": "code",
   "execution_count": 3,
   "metadata": {},
   "outputs": [
    {
     "name": "stdout",
     "output_type": "stream",
     "text": [
      "normalized data covariance matrix is [[ 1.         -0.11756978  0.87175378  0.81794113]\n",
      " [-0.11756978  1.         -0.4284401  -0.36612593]\n",
      " [ 0.87175378 -0.4284401   1.          0.96286543]\n",
      " [ 0.81794113 -0.36612593  0.96286543  1.        ]]\n"
     ]
    }
   ],
   "source": [
    "mu = np.mean(df)\n",
    "mu = np.array(mu)\n",
    "\n",
    "s = np.cov(df.T)\n",
    "df = np.array(df)\n",
    "\n",
    "# normalize the data \n",
    "sigma_hat_square = (1/(len(df)-1)) * sum([(x_i - mu)**2 for x_i in df])\n",
    "normalized_df = [(x_i - mu)/sigma_hat_square**(0.5) for x_i in df]\n",
    "normalized_df = pd.DataFrame(normalized_df)   \n",
    "normalized_s = np.cov(normalized_df.T)\n",
    "\n",
    "print('normalized data covariance matrix is', normalized_s)"
   ]
  },
  {
   "cell_type": "code",
   "execution_count": null,
   "metadata": {},
   "outputs": [],
   "source": []
  },
  {
   "cell_type": "code",
   "execution_count": 4,
   "metadata": {},
   "outputs": [
    {
     "data": {
      "text/plain": [
       "array([0.02071484, 0.14675688, 0.91403047, 2.91849782])"
      ]
     },
     "execution_count": 4,
     "metadata": {},
     "output_type": "execute_result"
    }
   ],
   "source": [
    "eigenvalues, eigenvectors = np.linalg.eigh(normalized_s)\n",
    "eigenvalues\n"
   ]
  },
  {
   "cell_type": "code",
   "execution_count": 5,
   "metadata": {},
   "outputs": [
    {
     "data": {
      "text/plain": [
       "('Proportion of population variance explained for the first principal component',\n",
       " 0.7296244541329988)"
      ]
     },
     "execution_count": 5,
     "metadata": {},
     "output_type": "execute_result"
    }
   ],
   "source": [
    "# Proportion of population variance explained for the first component.\n",
    "'Proportion of population variance explained for the first principal component',\\\n",
    "eigenvalues[3]/np.trace(normalized_s)"
   ]
  },
  {
   "cell_type": "code",
   "execution_count": 6,
   "metadata": {},
   "outputs": [
    {
     "data": {
      "text/plain": [
       "('Proportion of population variance explained for the first two principal component',\n",
       " 0.9581320720000168)"
      ]
     },
     "execution_count": 6,
     "metadata": {},
     "output_type": "execute_result"
    }
   ],
   "source": [
    "# Proportion of population variance explained for the first two component.\n",
    "'Proportion of population variance explained for the first two principal component',\\\n",
    "(eigenvalues[2] + eigenvalues[3])/np.trace(normalized_s)"
   ]
  },
  {
   "cell_type": "code",
   "execution_count": 7,
   "metadata": {},
   "outputs": [
    {
     "data": {
      "text/plain": [
       "('Proportion of population variance explained for the first three principal component',\n",
       " 0.9948212908928457)"
      ]
     },
     "execution_count": 7,
     "metadata": {},
     "output_type": "execute_result"
    }
   ],
   "source": [
    "# Proportion of population variance explained for the first three component.\n",
    "'Proportion of population variance explained for the first three principal component',\\\n",
    "(eigenvalues[1] + eigenvalues[2] + eigenvalues[3])/np.trace(normalized_s)"
   ]
  },
  {
   "cell_type": "markdown",
   "metadata": {},
   "source": [
    "### (b) The projection plot"
   ]
  },
  {
   "cell_type": "code",
   "execution_count": 8,
   "metadata": {},
   "outputs": [
    {
     "data": {
      "text/html": [
       "<div>\n",
       "<style scoped>\n",
       "    .dataframe tbody tr th:only-of-type {\n",
       "        vertical-align: middle;\n",
       "    }\n",
       "\n",
       "    .dataframe tbody tr th {\n",
       "        vertical-align: top;\n",
       "    }\n",
       "\n",
       "    .dataframe thead th {\n",
       "        text-align: right;\n",
       "    }\n",
       "</style>\n",
       "<table border=\"1\" class=\"dataframe\">\n",
       "  <thead>\n",
       "    <tr style=\"text-align: right;\">\n",
       "      <th></th>\n",
       "      <th>0</th>\n",
       "      <th>1</th>\n",
       "      <th>2</th>\n",
       "    </tr>\n",
       "  </thead>\n",
       "  <tbody>\n",
       "    <tr>\n",
       "      <td>0</td>\n",
       "      <td>2.488621</td>\n",
       "      <td>5.204041</td>\n",
       "      <td>-2.640270</td>\n",
       "    </tr>\n",
       "    <tr>\n",
       "      <td>1</td>\n",
       "      <td>2.466898</td>\n",
       "      <td>4.666910</td>\n",
       "      <td>-2.670730</td>\n",
       "    </tr>\n",
       "    <tr>\n",
       "      <td>2</td>\n",
       "      <td>2.288321</td>\n",
       "      <td>4.773636</td>\n",
       "      <td>-2.454606</td>\n",
       "    </tr>\n",
       "    <tr>\n",
       "      <td>3</td>\n",
       "      <td>2.212378</td>\n",
       "      <td>4.648463</td>\n",
       "      <td>-2.545517</td>\n",
       "    </tr>\n",
       "    <tr>\n",
       "      <td>4</td>\n",
       "      <td>2.392226</td>\n",
       "      <td>5.258629</td>\n",
       "      <td>-2.561228</td>\n",
       "    </tr>\n",
       "    <tr>\n",
       "      <td>...</td>\n",
       "      <td>...</td>\n",
       "      <td>...</td>\n",
       "      <td>...</td>\n",
       "    </tr>\n",
       "    <tr>\n",
       "      <td>145</td>\n",
       "      <td>1.890065</td>\n",
       "      <td>5.579908</td>\n",
       "      <td>-7.000417</td>\n",
       "    </tr>\n",
       "    <tr>\n",
       "      <td>146</td>\n",
       "      <td>2.006564</td>\n",
       "      <td>4.935618</td>\n",
       "      <td>-6.584640</td>\n",
       "    </tr>\n",
       "    <tr>\n",
       "      <td>147</td>\n",
       "      <td>1.936433</td>\n",
       "      <td>5.484342</td>\n",
       "      <td>-6.726747</td>\n",
       "    </tr>\n",
       "    <tr>\n",
       "      <td>148</td>\n",
       "      <td>1.404104</td>\n",
       "      <td>5.765416</td>\n",
       "      <td>-6.748228</td>\n",
       "    </tr>\n",
       "    <tr>\n",
       "      <td>149</td>\n",
       "      <td>1.645761</td>\n",
       "      <td>5.242054</td>\n",
       "      <td>-6.243095</td>\n",
       "    </tr>\n",
       "  </tbody>\n",
       "</table>\n",
       "<p>150 rows × 3 columns</p>\n",
       "</div>"
      ],
      "text/plain": [
       "            0         1         2\n",
       "0    2.488621  5.204041 -2.640270\n",
       "1    2.466898  4.666910 -2.670730\n",
       "2    2.288321  4.773636 -2.454606\n",
       "3    2.212378  4.648463 -2.545517\n",
       "4    2.392226  5.258629 -2.561228\n",
       "..        ...       ...       ...\n",
       "145  1.890065  5.579908 -7.000417\n",
       "146  2.006564  4.935618 -6.584640\n",
       "147  1.936433  5.484342 -6.726747\n",
       "148  1.404104  5.765416 -6.748228\n",
       "149  1.645761  5.242054 -6.243095\n",
       "\n",
       "[150 rows x 3 columns]"
      ]
     },
     "execution_count": 8,
     "metadata": {},
     "output_type": "execute_result"
    }
   ],
   "source": [
    "# Projection\n",
    "Y3 = df.dot(eigenvectors[:, 3]) # projection on the largest eigenvector\n",
    "Y2 = df.dot(eigenvectors[:, 2]) # projection on the second large eigenvector\n",
    "Y1 = df.dot(eigenvectors[:, 1]) # projection on the third large eigenvector\n",
    "df_prj = pd.DataFrame(np.array([Y1, Y2, Y3]).T)\n",
    "df_prj"
   ]
  },
  {
   "cell_type": "code",
   "execution_count": 9,
   "metadata": {
    "scrolled": false
   },
   "outputs": [
    {
     "data": {
      "text/html": [
       "<div>\n",
       "<style scoped>\n",
       "    .dataframe tbody tr th:only-of-type {\n",
       "        vertical-align: middle;\n",
       "    }\n",
       "\n",
       "    .dataframe tbody tr th {\n",
       "        vertical-align: top;\n",
       "    }\n",
       "\n",
       "    .dataframe thead th {\n",
       "        text-align: right;\n",
       "    }\n",
       "</style>\n",
       "<table border=\"1\" class=\"dataframe\">\n",
       "  <thead>\n",
       "    <tr style=\"text-align: right;\">\n",
       "      <th></th>\n",
       "      <th>0</th>\n",
       "      <th>1</th>\n",
       "      <th>2</th>\n",
       "      <th>group</th>\n",
       "    </tr>\n",
       "  </thead>\n",
       "  <tbody>\n",
       "    <tr>\n",
       "      <td>0</td>\n",
       "      <td>2.488621</td>\n",
       "      <td>5.204041</td>\n",
       "      <td>-2.640270</td>\n",
       "      <td>1</td>\n",
       "    </tr>\n",
       "    <tr>\n",
       "      <td>1</td>\n",
       "      <td>2.466898</td>\n",
       "      <td>4.666910</td>\n",
       "      <td>-2.670730</td>\n",
       "      <td>1</td>\n",
       "    </tr>\n",
       "    <tr>\n",
       "      <td>2</td>\n",
       "      <td>2.288321</td>\n",
       "      <td>4.773636</td>\n",
       "      <td>-2.454606</td>\n",
       "      <td>1</td>\n",
       "    </tr>\n",
       "    <tr>\n",
       "      <td>3</td>\n",
       "      <td>2.212378</td>\n",
       "      <td>4.648463</td>\n",
       "      <td>-2.545517</td>\n",
       "      <td>1</td>\n",
       "    </tr>\n",
       "    <tr>\n",
       "      <td>4</td>\n",
       "      <td>2.392226</td>\n",
       "      <td>5.258629</td>\n",
       "      <td>-2.561228</td>\n",
       "      <td>1</td>\n",
       "    </tr>\n",
       "    <tr>\n",
       "      <td>...</td>\n",
       "      <td>...</td>\n",
       "      <td>...</td>\n",
       "      <td>...</td>\n",
       "      <td>...</td>\n",
       "    </tr>\n",
       "    <tr>\n",
       "      <td>145</td>\n",
       "      <td>1.890065</td>\n",
       "      <td>5.579908</td>\n",
       "      <td>-7.000417</td>\n",
       "      <td>3</td>\n",
       "    </tr>\n",
       "    <tr>\n",
       "      <td>146</td>\n",
       "      <td>2.006564</td>\n",
       "      <td>4.935618</td>\n",
       "      <td>-6.584640</td>\n",
       "      <td>3</td>\n",
       "    </tr>\n",
       "    <tr>\n",
       "      <td>147</td>\n",
       "      <td>1.936433</td>\n",
       "      <td>5.484342</td>\n",
       "      <td>-6.726747</td>\n",
       "      <td>3</td>\n",
       "    </tr>\n",
       "    <tr>\n",
       "      <td>148</td>\n",
       "      <td>1.404104</td>\n",
       "      <td>5.765416</td>\n",
       "      <td>-6.748228</td>\n",
       "      <td>3</td>\n",
       "    </tr>\n",
       "    <tr>\n",
       "      <td>149</td>\n",
       "      <td>1.645761</td>\n",
       "      <td>5.242054</td>\n",
       "      <td>-6.243095</td>\n",
       "      <td>3</td>\n",
       "    </tr>\n",
       "  </tbody>\n",
       "</table>\n",
       "<p>150 rows × 4 columns</p>\n",
       "</div>"
      ],
      "text/plain": [
       "            0         1         2  group\n",
       "0    2.488621  5.204041 -2.640270      1\n",
       "1    2.466898  4.666910 -2.670730      1\n",
       "2    2.288321  4.773636 -2.454606      1\n",
       "3    2.212378  4.648463 -2.545517      1\n",
       "4    2.392226  5.258629 -2.561228      1\n",
       "..        ...       ...       ...    ...\n",
       "145  1.890065  5.579908 -7.000417      3\n",
       "146  2.006564  4.935618 -6.584640      3\n",
       "147  1.936433  5.484342 -6.726747      3\n",
       "148  1.404104  5.765416 -6.748228      3\n",
       "149  1.645761  5.242054 -6.243095      3\n",
       "\n",
       "[150 rows x 4 columns]"
      ]
     },
     "execution_count": 9,
     "metadata": {},
     "output_type": "execute_result"
    }
   ],
   "source": [
    "# Increase one column \"group\"\n",
    "df_prj['group'] = df_prj.index//50 +1\n",
    "df_prj_g1 = df_prj[df_prj['group']==1]\n",
    "df_prj_g2 = df_prj[df_prj['group']==2]\n",
    "df_prj_g3 = df_prj[df_prj['group']==3]\n",
    "df_prj"
   ]
  },
  {
   "cell_type": "markdown",
   "metadata": {},
   "source": [
    "### The two projection plots has been shown as follows:"
   ]
  },
  {
   "cell_type": "code",
   "execution_count": 10,
   "metadata": {},
   "outputs": [
    {
     "data": {
      "text/plain": [
       "Text(0, 0.5, 'The second principal component')"
      ]
     },
     "execution_count": 10,
     "metadata": {},
     "output_type": "execute_result"
    },
    {
     "data": {
      "image/png": "[encoded data removed]",
      "text/plain": [
       "<Figure size 432x288 with 1 Axes>"
      ]
     },
     "metadata": {
      "needs_background": "light"
     },
     "output_type": "display_data"
    }
   ],
   "source": [
    "# The projection of the dataset on the first two principal components\n",
    "plt.scatter(df_prj_g1[0], df_prj_g1[1], c='y', label=\"$Iris Setosa$\")  \n",
    "plt.scatter(df_prj_g2[0], df_prj_g2[1], c='blue', label='$Iris Versicolour$')\n",
    "plt.scatter(df_prj_g3[0], df_prj_g3[1], c='m', label='$Iris Virginica$')\n",
    "plt.legend(bbox_to_anchor=(1.35, 1), loc='upper right')\n",
    "plt.xlabel(\"The first principal component\")\n",
    "plt.ylabel(\"The second principal component\")"
   ]
  },
  {
   "cell_type": "code",
   "execution_count": 11,
   "metadata": {},
   "outputs": [
    {
     "data": {
      "text/plain": [
       "<matplotlib.legend.Legend at 0x1c227a1610>"
      ]
     },
     "execution_count": 11,
     "metadata": {},
     "output_type": "execute_result"
    },
    {
     "data": {
      "image/png": "[encoded data removed]",
      "text/plain": [
       "<Figure size 432x288 with 1 Axes>"
      ]
     },
     "metadata": {
      "needs_background": "light"
     },
     "output_type": "display_data"
    }
   ],
   "source": [
    "# The projection of the dataset on the first and third principal components\n",
    "plt.scatter(df_prj_g1[0], df_prj_g1[2], c='y', label=\"$Iris Setosa$\")  \n",
    "plt.scatter(df_prj_g2[0], df_prj_g2[2], c='blue', label='$Iris Versicolour$')\n",
    "plt.scatter(df_prj_g3[0], df_prj_g3[2], c='m', label='$Iris Virginica$')\n",
    "plt.legend(bbox_to_anchor=(1.35, 1), loc='upper right')"
   ]
  },
  {
   "cell_type": "code",
   "execution_count": null,
   "metadata": {},
   "outputs": [],
   "source": []
  },
  {
   "cell_type": "code",
   "execution_count": null,
   "metadata": {},
   "outputs": [],
   "source": []
  },
  {
   "cell_type": "markdown",
   "metadata": {},
   "source": [
    " \n",
    "## 2. Assess with at least two methods whether for each of the three populations, the dataset of size 50 (and dimension 4) comes from a sample of iid multivariate normal observations.\n"
   ]
  },
  {
   "cell_type": "code",
   "execution_count": 12,
   "metadata": {
    "scrolled": false
   },
   "outputs": [
    {
     "data": {
      "text/html": [
       "<div>\n",
       "<style scoped>\n",
       "    .dataframe tbody tr th:only-of-type {\n",
       "        vertical-align: middle;\n",
       "    }\n",
       "\n",
       "    .dataframe tbody tr th {\n",
       "        vertical-align: top;\n",
       "    }\n",
       "\n",
       "    .dataframe thead th {\n",
       "        text-align: right;\n",
       "    }\n",
       "</style>\n",
       "<table border=\"1\" class=\"dataframe\">\n",
       "  <thead>\n",
       "    <tr style=\"text-align: right;\">\n",
       "      <th></th>\n",
       "      <th>Sepal length</th>\n",
       "      <th>Sepal width</th>\n",
       "      <th>Petal.Length</th>\n",
       "      <th>Petal.Width</th>\n",
       "      <th>group</th>\n",
       "    </tr>\n",
       "  </thead>\n",
       "  <tbody>\n",
       "    <tr>\n",
       "      <td>0</td>\n",
       "      <td>5.1</td>\n",
       "      <td>3.5</td>\n",
       "      <td>1.4</td>\n",
       "      <td>0.2</td>\n",
       "      <td>1</td>\n",
       "    </tr>\n",
       "    <tr>\n",
       "      <td>1</td>\n",
       "      <td>4.9</td>\n",
       "      <td>3.0</td>\n",
       "      <td>1.4</td>\n",
       "      <td>0.2</td>\n",
       "      <td>1</td>\n",
       "    </tr>\n",
       "    <tr>\n",
       "      <td>2</td>\n",
       "      <td>4.7</td>\n",
       "      <td>3.2</td>\n",
       "      <td>1.3</td>\n",
       "      <td>0.2</td>\n",
       "      <td>1</td>\n",
       "    </tr>\n",
       "    <tr>\n",
       "      <td>3</td>\n",
       "      <td>4.6</td>\n",
       "      <td>3.1</td>\n",
       "      <td>1.5</td>\n",
       "      <td>0.2</td>\n",
       "      <td>1</td>\n",
       "    </tr>\n",
       "    <tr>\n",
       "      <td>4</td>\n",
       "      <td>5.0</td>\n",
       "      <td>3.6</td>\n",
       "      <td>1.4</td>\n",
       "      <td>0.2</td>\n",
       "      <td>1</td>\n",
       "    </tr>\n",
       "    <tr>\n",
       "      <td>...</td>\n",
       "      <td>...</td>\n",
       "      <td>...</td>\n",
       "      <td>...</td>\n",
       "      <td>...</td>\n",
       "      <td>...</td>\n",
       "    </tr>\n",
       "    <tr>\n",
       "      <td>145</td>\n",
       "      <td>6.7</td>\n",
       "      <td>3.0</td>\n",
       "      <td>5.2</td>\n",
       "      <td>2.3</td>\n",
       "      <td>3</td>\n",
       "    </tr>\n",
       "    <tr>\n",
       "      <td>146</td>\n",
       "      <td>6.3</td>\n",
       "      <td>2.5</td>\n",
       "      <td>5.0</td>\n",
       "      <td>1.9</td>\n",
       "      <td>3</td>\n",
       "    </tr>\n",
       "    <tr>\n",
       "      <td>147</td>\n",
       "      <td>6.5</td>\n",
       "      <td>3.0</td>\n",
       "      <td>5.2</td>\n",
       "      <td>2.0</td>\n",
       "      <td>3</td>\n",
       "    </tr>\n",
       "    <tr>\n",
       "      <td>148</td>\n",
       "      <td>6.2</td>\n",
       "      <td>3.4</td>\n",
       "      <td>5.4</td>\n",
       "      <td>2.3</td>\n",
       "      <td>3</td>\n",
       "    </tr>\n",
       "    <tr>\n",
       "      <td>149</td>\n",
       "      <td>5.9</td>\n",
       "      <td>3.0</td>\n",
       "      <td>5.1</td>\n",
       "      <td>1.8</td>\n",
       "      <td>3</td>\n",
       "    </tr>\n",
       "  </tbody>\n",
       "</table>\n",
       "<p>150 rows × 5 columns</p>\n",
       "</div>"
      ],
      "text/plain": [
       "     Sepal length  Sepal width  Petal.Length  Petal.Width  group\n",
       "0             5.1          3.5           1.4          0.2      1\n",
       "1             4.9          3.0           1.4          0.2      1\n",
       "2             4.7          3.2           1.3          0.2      1\n",
       "3             4.6          3.1           1.5          0.2      1\n",
       "4             5.0          3.6           1.4          0.2      1\n",
       "..            ...          ...           ...          ...    ...\n",
       "145           6.7          3.0           5.2          2.3      3\n",
       "146           6.3          2.5           5.0          1.9      3\n",
       "147           6.5          3.0           5.2          2.0      3\n",
       "148           6.2          3.4           5.4          2.3      3\n",
       "149           5.9          3.0           5.1          1.8      3\n",
       "\n",
       "[150 rows x 5 columns]"
      ]
     },
     "execution_count": 12,
     "metadata": {},
     "output_type": "execute_result"
    }
   ],
   "source": [
    "df = pd.DataFrame(df)\n",
    "df['group'] = df.index//50 +1\n",
    "df_g1 = df[df['group']==1]\n",
    "df_g2 = df[df['group']==2]\n",
    "df_g3 = df[df['group']==3]\n",
    "df.columns = ['Sepal length', 'Sepal width', 'Petal.Length', 'Petal.Width', 'group']\n",
    "df"
   ]
  },
  {
   "cell_type": "code",
   "execution_count": null,
   "metadata": {},
   "outputs": [],
   "source": []
  },
  {
   "cell_type": "code",
   "execution_count": null,
   "metadata": {},
   "outputs": [],
   "source": []
  },
  {
   "cell_type": "markdown",
   "metadata": {},
   "source": [
    "### Method 1: Checking the univariate and marginal distributions of every dimention for every population by using histogram with scatter plot and Q-Q plot.\n",
    "\n",
    "#### Result: Overall, all three population seem to come from a sample of iid multivariate normal observations except for the fourth component 'Petal.Width'."
   ]
  },
  {
   "cell_type": "markdown",
   "metadata": {},
   "source": [
    "#### (1)Univariate checking for population 1:\n",
    "The histogram with scatter plot shows that it seems to be normal for population 1 on all components except for the fourth component 'Petal.Width'.\\\n",
    "Q-Q plots for component 'Sepal length' and 'Sepal width' are likely normal, however Q-Q plots for component 'Petal.Width' and 'Petal.Width' are not good enough to say they are normal."
   ]
  },
  {
   "cell_type": "code",
   "execution_count": 13,
   "metadata": {
    "scrolled": false
   },
   "outputs": [
    {
     "data": {
      "text/plain": [
       "array([[<matplotlib.axes._subplots.AxesSubplot object at 0x1c22815090>,\n",
       "        <matplotlib.axes._subplots.AxesSubplot object at 0x1c228d6c10>,\n",
       "        <matplotlib.axes._subplots.AxesSubplot object at 0x1c22998f90>,\n",
       "        <matplotlib.axes._subplots.AxesSubplot object at 0x1c229cbc50>],\n",
       "       [<matplotlib.axes._subplots.AxesSubplot object at 0x1c22a08fd0>,\n",
       "        <matplotlib.axes._subplots.AxesSubplot object at 0x1c22a38c90>,\n",
       "        <matplotlib.axes._subplots.AxesSubplot object at 0x1c22a754d0>,\n",
       "        <matplotlib.axes._subplots.AxesSubplot object at 0x1c22aa6cd0>],\n",
       "       [<matplotlib.axes._subplots.AxesSubplot object at 0x1c22aaf850>,\n",
       "        <matplotlib.axes._subplots.AxesSubplot object at 0x1c22aee210>,\n",
       "        <matplotlib.axes._subplots.AxesSubplot object at 0x1c22b59550>,\n",
       "        <matplotlib.axes._subplots.AxesSubplot object at 0x1c22b8ed50>],\n",
       "       [<matplotlib.axes._subplots.AxesSubplot object at 0x1c22bcd590>,\n",
       "        <matplotlib.axes._subplots.AxesSubplot object at 0x1c22c02d90>,\n",
       "        <matplotlib.axes._subplots.AxesSubplot object at 0x1c22c445d0>,\n",
       "        <matplotlib.axes._subplots.AxesSubplot object at 0x1c22c77dd0>]],\n",
       "      dtype=object)"
      ]
     },
     "execution_count": 13,
     "metadata": {},
     "output_type": "execute_result"
    },
    {
     "data": {
      "image/png": "[encoded data removed]",
      "text/plain": [
       "<Figure size 432x288 with 16 Axes>"
      ]
     },
     "metadata": {
      "needs_background": "light"
     },
     "output_type": "display_data"
    }
   ],
   "source": [
    "# Univariate checking for population 1\n",
    "df_g1.columns = ['Sepal length', 'Sepal width', 'Petal.Length', 'Petal.Width', 'group']\n",
    "df_g1_dig = df_g1[['Sepal length', 'Sepal width', 'Petal.Length', 'Petal.Width']]\n",
    "df_g1_dig\n",
    "pd.plotting.scatter_matrix(df_g1_dig)"
   ]
  },
  {
   "cell_type": "code",
   "execution_count": 14,
   "metadata": {},
   "outputs": [
    {
     "data": {
      "image/png": "[encoded data removed]",
      "text/plain": [
       "<Figure size 432x288 with 1 Axes>"
      ]
     },
     "metadata": {
      "needs_background": "light"
     },
     "output_type": "display_data"
    }
   ],
   "source": [
    "# Q-Q plot for \"Sepal length\" of population 1\n",
    "\n",
    "## normalize the data\n",
    "mu_g1_1 = (1/len(df_g1['Sepal length'])) * sum(df_g1['Sepal length'])\n",
    "mu_g1_1\n",
    "s_g1_1 = (1/(len(df_g1['Sepal length'])-1)) * sum([(x_i - mu_g1_1)**2 for x_i in df_g1['Sepal length']])\n",
    "s_g1_1\n",
    "normalized_g1_1 = [(x_i - mu_g1_1)/s_g1_1**(0.5) for x_i in df_g1['Sepal length']]\n",
    "\n",
    "## Q-Q plot\n",
    "fig = sm.qqplot(np.array(normalized_g1_1), line='45')\n",
    "plt.show()"
   ]
  },
  {
   "cell_type": "code",
   "execution_count": 15,
   "metadata": {},
   "outputs": [
    {
     "data": {
      "image/png": "[encoded data removed]",
      "text/plain": [
       "<Figure size 432x288 with 1 Axes>"
      ]
     },
     "metadata": {
      "needs_background": "light"
     },
     "output_type": "display_data"
    }
   ],
   "source": [
    "# Q-Q plot for \"Sepal width\" of population 1\n",
    "\n",
    "## normalize the data\n",
    "mu_g1_2 = (1/len(df_g1['Sepal width'])) * sum(df_g1['Sepal width'])\n",
    "mu_g1_2\n",
    "s_g1_2 = (1/(len(df_g1['Sepal width'])-1)) * sum([(x_i - mu_g1_2)**2 for x_i in df_g1['Sepal width']])\n",
    "s_g1_2\n",
    "normalized_g1_2 = [(x_i - mu_g1_2)/s_g1_2**(0.5) for x_i in df_g1['Sepal width']]\n",
    "\n",
    "## Q-Q plot\n",
    "fig = sm.qqplot(np.array(normalized_g1_2), line='45')\n",
    "plt.show()"
   ]
  },
  {
   "cell_type": "code",
   "execution_count": null,
   "metadata": {},
   "outputs": [],
   "source": []
  },
  {
   "cell_type": "code",
   "execution_count": 16,
   "metadata": {},
   "outputs": [
    {
     "data": {
      "image/png": "[encoded data removed]",
      "text/plain": [
       "<Figure size 432x288 with 1 Axes>"
      ]
     },
     "metadata": {
      "needs_background": "light"
     },
     "output_type": "display_data"
    }
   ],
   "source": [
    "# Q-Q plot for \"Petal.Length\" of population 1\n",
    "\n",
    "## normalize the data\n",
    "mu_g1_3 = (1/len(df_g1['Petal.Length'])) * sum(df_g1['Petal.Length'])\n",
    "mu_g1_3\n",
    "s_g1_3 = (1/(len(df_g1['Petal.Length'])-1)) * sum([(x_i - mu_g1_3)**2 for x_i in df_g1['Petal.Length']])\n",
    "s_g1_3\n",
    "normalized_g1_3 = [(x_i - mu_g1_3)/s_g1_3**(0.5) for x_i in df_g1['Petal.Length']]\n",
    "\n",
    "## Q-Q plot\n",
    "fig = sm.qqplot(np.array(normalized_g1_3), line='45')\n",
    "plt.show()"
   ]
  },
  {
   "cell_type": "code",
   "execution_count": null,
   "metadata": {},
   "outputs": [],
   "source": []
  },
  {
   "cell_type": "code",
   "execution_count": 17,
   "metadata": {
    "scrolled": true
   },
   "outputs": [
    {
     "data": {
      "image/png": "[encoded data removed]",
      "text/plain": [
       "<Figure size 432x288 with 1 Axes>"
      ]
     },
     "metadata": {
      "needs_background": "light"
     },
     "output_type": "display_data"
    }
   ],
   "source": [
    "# Q-Q plot for \"Petal.Width\" of population 1\n",
    "\n",
    "## normalize the data\n",
    "mu_g1_4 = (1/len(df_g1['Petal.Width'])) * sum(df_g1['Petal.Width'])\n",
    "mu_g1_4\n",
    "s_g1_4 = (1/(len(df_g1['Petal.Width'])-1)) * sum([(x_i - mu_g1_4)**2 for x_i in df_g1['Petal.Width']])\n",
    "s_g1_4\n",
    "normalized_g1_4 = [(x_i - mu_g1_4)/s_g1_4**(0.5) for x_i in df_g1['Petal.Width']]\n",
    "\n",
    "## Q-Q plot\n",
    "fig = sm.qqplot(np.array(normalized_g1_4), line='45')\n",
    "plt.show()"
   ]
  },
  {
   "cell_type": "code",
   "execution_count": null,
   "metadata": {},
   "outputs": [],
   "source": []
  },
  {
   "cell_type": "markdown",
   "metadata": {},
   "source": [
    "#### (2)Univariate checking for population 2:\n",
    "The histogram with scatter plot shows that it seems to be normal for population 2 on all components except for the third component 'Petal.Length' and fourth component 'Petal.Width'.\\\n",
    "Q-Q plots for the first three components are likely normal, however Q-Q plots for component 'Petal.Width' are not good enough to say they are normal."
   ]
  },
  {
   "cell_type": "code",
   "execution_count": 18,
   "metadata": {},
   "outputs": [
    {
     "data": {
      "text/plain": [
       "array([[<matplotlib.axes._subplots.AxesSubplot object at 0x1c22ff8f50>,\n",
       "        <matplotlib.axes._subplots.AxesSubplot object at 0x1c23244f50>,\n",
       "        <matplotlib.axes._subplots.AxesSubplot object at 0x1c231bec10>,\n",
       "        <matplotlib.axes._subplots.AxesSubplot object at 0x1c232ebf90>],\n",
       "       [<matplotlib.axes._subplots.AxesSubplot object at 0x1c23320c50>,\n",
       "        <matplotlib.axes._subplots.AxesSubplot object at 0x1c23361fd0>,\n",
       "        <matplotlib.axes._subplots.AxesSubplot object at 0x1c23395c90>,\n",
       "        <matplotlib.axes._subplots.AxesSubplot object at 0x1c233d54d0>],\n",
       "       [<matplotlib.axes._subplots.AxesSubplot object at 0x1c233e3050>,\n",
       "        <matplotlib.axes._subplots.AxesSubplot object at 0x1c234169d0>,\n",
       "        <matplotlib.axes._subplots.AxesSubplot object at 0x1c23481d10>,\n",
       "        <matplotlib.axes._subplots.AxesSubplot object at 0x1c234c1550>],\n",
       "       [<matplotlib.axes._subplots.AxesSubplot object at 0x1c234f7d50>,\n",
       "        <matplotlib.axes._subplots.AxesSubplot object at 0x1c23538590>,\n",
       "        <matplotlib.axes._subplots.AxesSubplot object at 0x1c2356ad90>,\n",
       "        <matplotlib.axes._subplots.AxesSubplot object at 0x1c235ac5d0>]],\n",
       "      dtype=object)"
      ]
     },
     "execution_count": 18,
     "metadata": {},
     "output_type": "execute_result"
    },
    {
     "data": {
      "image/png": "[encoded data removed]",
      "text/plain": [
       "<Figure size 432x288 with 16 Axes>"
      ]
     },
     "metadata": {
      "needs_background": "light"
     },
     "output_type": "display_data"
    }
   ],
   "source": [
    "# Univariate checking for population 2\n",
    "df_g2.columns = ['Sepal length', 'Sepal width', 'Petal.Length', 'Petal.Width', 'group']\n",
    "df_g2_dig = df_g2[['Sepal length', 'Sepal width', 'Petal.Length', 'Petal.Width']]\n",
    "df_g2_dig\n",
    "pd.plotting.scatter_matrix(df_g2_dig)"
   ]
  },
  {
   "cell_type": "code",
   "execution_count": 19,
   "metadata": {},
   "outputs": [
    {
     "data": {
      "image/png": "[encoded data removed]",
      "text/plain": [
       "<Figure size 432x288 with 1 Axes>"
      ]
     },
     "metadata": {
      "needs_background": "light"
     },
     "output_type": "display_data"
    }
   ],
   "source": [
    "# Q-Q plot for \"Sepal length\" of population 2\n",
    "\n",
    "## normalize the data\n",
    "mu_g2_1 = (1/len(df_g2['Sepal length'])) * sum(df_g2['Sepal length'])\n",
    "mu_g2_1\n",
    "s_g2_1 = (1/(len(df_g2['Sepal length'])-1)) * sum([(x_i - mu_g2_1)**2 for x_i in df_g2['Sepal length']])\n",
    "s_g2_1\n",
    "normalized_g2_1 = [(x_i - mu_g2_1)/s_g2_1**(0.5) for x_i in df_g2['Sepal length']]\n",
    "\n",
    "## Q-Q plot\n",
    "fig = sm.qqplot(np.array(normalized_g2_1), line='45')\n",
    "plt.show()"
   ]
  },
  {
   "cell_type": "code",
   "execution_count": 20,
   "metadata": {},
   "outputs": [
    {
     "data": {
      "image/png": "[encoded data removed]",
      "text/plain": [
       "<Figure size 432x288 with 1 Axes>"
      ]
     },
     "metadata": {
      "needs_background": "light"
     },
     "output_type": "display_data"
    }
   ],
   "source": [
    "# Q-Q plot for \"Sepal width\" of population 2\n",
    "\n",
    "## normalize the data\n",
    "mu_g2_2 = (1/len(df_g2['Sepal width'])) * sum(df_g2['Sepal width'])\n",
    "mu_g2_2\n",
    "s_g2_2 = (1/(len(df_g2['Sepal width'])-1)) * sum([(x_i - mu_g2_2)**2 for x_i in df_g2['Sepal width']])\n",
    "s_g2_2\n",
    "normalized_g2_2 = [(x_i - mu_g2_2)/s_g2_2**(0.5) for x_i in df_g2['Sepal width']]\n",
    "\n",
    "## Q-Q plot\n",
    "fig = sm.qqplot(np.array(normalized_g2_2), line='45')\n",
    "plt.show()"
   ]
  },
  {
   "cell_type": "code",
   "execution_count": 21,
   "metadata": {},
   "outputs": [
    {
     "data": {
      "image/png": "[encoded data removed]",
      "text/plain": [
       "<Figure size 432x288 with 1 Axes>"
      ]
     },
     "metadata": {
      "needs_background": "light"
     },
     "output_type": "display_data"
    }
   ],
   "source": [
    "# Q-Q plot for \"Petal.Length\" of population 2\n",
    "\n",
    "## normalize the data\n",
    "mu_g2_3 = (1/len(df_g2['Petal.Length'])) * sum(df_g2['Petal.Length'])\n",
    "mu_g2_3\n",
    "s_g2_3 = (1/(len(df_g2['Petal.Length'])-1)) * sum([(x_i - mu_g2_3)**2 for x_i in df_g2['Petal.Length']])\n",
    "s_g2_3\n",
    "normalized_g2_3 = [(x_i - mu_g2_3)/s_g2_3**(0.5) for x_i in df_g2['Petal.Length']]\n",
    "\n",
    "## Q-Q plot\n",
    "fig = sm.qqplot(np.array(normalized_g2_3), line='45')\n",
    "plt.show()"
   ]
  },
  {
   "cell_type": "code",
   "execution_count": 22,
   "metadata": {},
   "outputs": [
    {
     "data": {
      "image/png": "[encoded data removed]",
      "text/plain": [
       "<Figure size 432x288 with 1 Axes>"
      ]
     },
     "metadata": {
      "needs_background": "light"
     },
     "output_type": "display_data"
    }
   ],
   "source": [
    "# Q-Q plot for \"Petal.Width\" of population 2\n",
    "\n",
    "## normalize the data\n",
    "mu_g2_4 = (1/len(df_g2['Petal.Width'])) * sum(df_g2['Petal.Width'])\n",
    "mu_g2_4\n",
    "s_g2_4 = (1/(len(df_g2['Petal.Width'])-1)) * sum([(x_i - mu_g2_4)**2 for x_i in df_g2['Petal.Width']])\n",
    "s_g2_4\n",
    "normalized_g2_4 = [(x_i - mu_g2_4)/s_g2_4**(0.5) for x_i in df_g2['Petal.Width']]\n",
    "\n",
    "## Q-Q plot\n",
    "fig = sm.qqplot(np.array(normalized_g2_4), line='45')\n",
    "plt.show()"
   ]
  },
  {
   "cell_type": "code",
   "execution_count": null,
   "metadata": {},
   "outputs": [],
   "source": []
  },
  {
   "cell_type": "markdown",
   "metadata": {},
   "source": [
    "#### (3)Univariate checking for population 3:\n",
    "The histogram with scatter plot shows that it seems to be normal for population 3 on all components except for the fourth component 'Petal.Width'.\\\n",
    "Q-Q plots for the first three components are likely normal, however Q-Q plots for component 'Petal.Width' are not good enough to say they are normal."
   ]
  },
  {
   "cell_type": "code",
   "execution_count": 23,
   "metadata": {},
   "outputs": [
    {
     "data": {
      "text/plain": [
       "array([[<matplotlib.axes._subplots.AxesSubplot object at 0x1c230c6e10>,\n",
       "        <matplotlib.axes._subplots.AxesSubplot object at 0x1c22e35a90>,\n",
       "        <matplotlib.axes._subplots.AxesSubplot object at 0x1c2278c210>,\n",
       "        <matplotlib.axes._subplots.AxesSubplot object at 0x1c228c4550>],\n",
       "       [<matplotlib.axes._subplots.AxesSubplot object at 0x1c22d3fe90>,\n",
       "        <matplotlib.axes._subplots.AxesSubplot object at 0x1c22f8b4d0>,\n",
       "        <matplotlib.axes._subplots.AxesSubplot object at 0x1c23025cd0>,\n",
       "        <matplotlib.axes._subplots.AxesSubplot object at 0x1c23a64510>],\n",
       "       [<matplotlib.axes._subplots.AxesSubplot object at 0x1c23042090>,\n",
       "        <matplotlib.axes._subplots.AxesSubplot object at 0x1c23074a10>,\n",
       "        <matplotlib.axes._subplots.AxesSubplot object at 0x1c239d5d50>,\n",
       "        <matplotlib.axes._subplots.AxesSubplot object at 0x10c6f7590>],\n",
       "       [<matplotlib.axes._subplots.AxesSubplot object at 0x10c72cd90>,\n",
       "        <matplotlib.axes._subplots.AxesSubplot object at 0x10c76f5d0>,\n",
       "        <matplotlib.axes._subplots.AxesSubplot object at 0x10c79fdd0>,\n",
       "        <matplotlib.axes._subplots.AxesSubplot object at 0x10c7e2610>]],\n",
       "      dtype=object)"
      ]
     },
     "execution_count": 23,
     "metadata": {},
     "output_type": "execute_result"
    },
    {
     "data": {
      "image/png": "[encoded data removed]",
      "text/plain": [
       "<Figure size 432x288 with 16 Axes>"
      ]
     },
     "metadata": {
      "needs_background": "light"
     },
     "output_type": "display_data"
    }
   ],
   "source": [
    "# Univariate checking for population 3\n",
    "df_g3.columns = ['Sepal length', 'Sepal width', 'Petal.Length', 'Petal.Width', 'group']\n",
    "df_g3_dig = df_g3[['Sepal length', 'Sepal width', 'Petal.Length', 'Petal.Width']]\n",
    "df_g3_dig\n",
    "pd.plotting.scatter_matrix(df_g3_dig)"
   ]
  },
  {
   "cell_type": "code",
   "execution_count": 24,
   "metadata": {},
   "outputs": [
    {
     "data": {
      "image/png": "[encoded data removed]",
      "text/plain": [
       "<Figure size 432x288 with 1 Axes>"
      ]
     },
     "metadata": {
      "needs_background": "light"
     },
     "output_type": "display_data"
    }
   ],
   "source": [
    "# Q-Q plot for \"Sepal length\" of population 3\n",
    "\n",
    "## normalize the data\n",
    "mu_g3_1 = (1/len(df_g3['Sepal length'])) * sum(df_g3['Sepal length'])\n",
    "mu_g3_1\n",
    "s_g3_1 = (1/(len(df_g3['Sepal length'])-1)) * sum([(x_i - mu_g3_1)**2 for x_i in df_g3['Sepal length']])\n",
    "s_g3_1\n",
    "normalized_g3_1 = [(x_i - mu_g3_1)/s_g3_1**(0.5) for x_i in df_g3['Sepal length']]\n",
    "\n",
    "## Q-Q plot\n",
    "fig = sm.qqplot(np.array(normalized_g3_1), line='45')\n",
    "plt.show()"
   ]
  },
  {
   "cell_type": "code",
   "execution_count": 25,
   "metadata": {},
   "outputs": [
    {
     "data": {
      "image/png": "[encoded data removed]",
      "text/plain": [
       "<Figure size 432x288 with 1 Axes>"
      ]
     },
     "metadata": {
      "needs_background": "light"
     },
     "output_type": "display_data"
    }
   ],
   "source": [
    "# Q-Q plot for \"Sepal width\" of population 3\n",
    "\n",
    "## normalize the data\n",
    "mu_g3_2 = (1/len(df_g3['Sepal width'])) * sum(df_g3['Sepal width'])\n",
    "mu_g3_2\n",
    "s_g3_2 = (1/(len(df_g3['Sepal width'])-1)) * sum([(x_i - mu_g3_2)**2 for x_i in df_g3['Sepal width']])\n",
    "s_g3_2\n",
    "normalized_g3_2 = [(x_i - mu_g3_2)/s_g3_2**(0.5) for x_i in df_g3['Sepal width']]\n",
    "\n",
    "## Q-Q plot\n",
    "fig = sm.qqplot(np.array(normalized_g3_2), line='45')\n",
    "plt.show()"
   ]
  },
  {
   "cell_type": "code",
   "execution_count": 26,
   "metadata": {},
   "outputs": [
    {
     "data": {
      "image/png": "[encoded data removed]",
      "text/plain": [
       "<Figure size 432x288 with 1 Axes>"
      ]
     },
     "metadata": {
      "needs_background": "light"
     },
     "output_type": "display_data"
    }
   ],
   "source": [
    "# Q-Q plot for \"Petal.Length\" of population 3\n",
    "\n",
    "## normalize the data\n",
    "mu_g3_3 = (1/len(df_g3['Petal.Length'])) * sum(df_g3['Petal.Length'])\n",
    "mu_g3_3\n",
    "s_g3_3 = (1/(len(df_g3['Petal.Length'])-1)) * sum([(x_i - mu_g3_3)**2 for x_i in df_g3['Petal.Length']])\n",
    "s_g3_3\n",
    "normalized_g3_3 = [(x_i - mu_g3_3)/s_g3_3**(0.5) for x_i in df_g3['Petal.Length']]\n",
    "\n",
    "## Q-Q plot\n",
    "fig = sm.qqplot(np.array(normalized_g3_3), line='45')\n",
    "plt.show()"
   ]
  },
  {
   "cell_type": "code",
   "execution_count": 27,
   "metadata": {
    "scrolled": true
   },
   "outputs": [
    {
     "data": {
      "image/png": "[encoded data removed]",
      "text/plain": [
       "<Figure size 432x288 with 1 Axes>"
      ]
     },
     "metadata": {
      "needs_background": "light"
     },
     "output_type": "display_data"
    }
   ],
   "source": [
    "# Q-Q plot for \"Petal.Width\" of population 3\n",
    "\n",
    "## normalize the data\n",
    "mu_g3_4 = (1/len(df_g3['Petal.Width'])) * sum(df_g3['Petal.Width'])\n",
    "mu_g3_4\n",
    "s_g3_4 = (1/(len(df_g3['Petal.Width'])-1)) * sum([(x_i - mu_g3_4)**2 for x_i in df_g3['Petal.Width']])\n",
    "s_g3_4\n",
    "normalized_g3_4 = [(x_i - mu_g3_4)/s_g3_4**(0.5) for x_i in df_g3['Petal.Width']]\n",
    "\n",
    "## Q-Q plot\n",
    "fig = sm.qqplot(np.array(normalized_g3_4), line='45')\n",
    "plt.show()"
   ]
  },
  {
   "cell_type": "code",
   "execution_count": null,
   "metadata": {},
   "outputs": [],
   "source": []
  },
  {
   "attachments": {},
   "cell_type": "markdown",
   "metadata": {},
   "source": [
    "### Method 2: Checking the multivariate distributions for every population by using chi-square plot.\n",
    "\n",
    "#### Result: all three population seem to come from a sample of iid multivariate normal observations. Because all three population's squared generalized distance ${d^2}_i=({\\vec{x}}_i-\\hat{\\mu})s^{-1}({\\vec{x}}_i-\\hat{\\mu})$ follow the ${\\chi^2}_p$ with p=4 degrees of freedom."
   ]
  },
  {
   "cell_type": "code",
   "execution_count": 28,
   "metadata": {},
   "outputs": [
    {
     "data": {
      "image/png": "[encoded data removed]",
      "text/plain": [
       "<Figure size 432x288 with 1 Axes>"
      ]
     },
     "metadata": {
      "needs_background": "light"
     },
     "output_type": "display_data"
    }
   ],
   "source": [
    "# Chi-square plot for population 1\n",
    "\n",
    "n = 50\n",
    "p = 4\n",
    "mu_g1 = np.array(np.average(df_g1_dig, axis=0))\n",
    "s_g1 = np.cov(df_g1_dig.T)\n",
    "df_g1_dig = np.array(df_g1_dig)\n",
    "\n",
    "copies_of_distance_g1 = []\n",
    "\n",
    "for i in range(n):\n",
    "    x_i = df_g1_dig[i,:]\n",
    "    squared_generalized_distance_g1 = (x_i - mu_g1) @ np.linalg.inv(s_g1) @ (x_i - mu_g1).T\n",
    "    copies_of_distance_g1.append(squared_generalized_distance_g1)\n",
    "\n",
    "copies_of_distance_g1\n",
    "\n",
    "fig = sm.qqplot(np.array(copies_of_distance_g1), line='45', dist=distributions.chi2, distargs=(p, ))"
   ]
  },
  {
   "cell_type": "code",
   "execution_count": 29,
   "metadata": {},
   "outputs": [
    {
     "data": {
      "image/png": "[encoded data removed]",
      "text/plain": [
       "<Figure size 432x288 with 1 Axes>"
      ]
     },
     "metadata": {
      "needs_background": "light"
     },
     "output_type": "display_data"
    }
   ],
   "source": [
    "# Chi-square plot for population 2\n",
    "\n",
    "n = 50\n",
    "p = 4\n",
    "mu_g2 = np.array(np.average(df_g2_dig, axis=0))\n",
    "s_g2 = np.cov(df_g2_dig.T)\n",
    "df_g2_dig = np.array(df_g2_dig)\n",
    "\n",
    "copies_of_distance_g2 = []\n",
    "\n",
    "for i in range(n):\n",
    "    x_i = df_g2_dig[i,:]\n",
    "    squared_generalized_distance_g2 = (x_i - mu_g2) @ np.linalg.inv(s_g2) @ (x_i - mu_g2).T\n",
    "    copies_of_distance_g2.append(squared_generalized_distance_g2)\n",
    "\n",
    "copies_of_distance_g2\n",
    "\n",
    "fig = sm.qqplot(np.array(copies_of_distance_g2), line='45', dist=distributions.chi2, distargs=(p, ))"
   ]
  },
  {
   "cell_type": "code",
   "execution_count": 30,
   "metadata": {},
   "outputs": [
    {
     "data": {
      "image/png": "[encoded data removed]",
      "text/plain": [
       "<Figure size 432x288 with 1 Axes>"
      ]
     },
     "metadata": {
      "needs_background": "light"
     },
     "output_type": "display_data"
    }
   ],
   "source": [
    "# Chi-square plot for population 3\n",
    "\n",
    "n = 50\n",
    "p = 4\n",
    "mu_g3 = np.array(np.average(df_g3_dig, axis=0))\n",
    "s_g3 = np.cov(df_g3_dig.T)\n",
    "df_g3_dig = np.array(df_g3_dig)\n",
    "\n",
    "copies_of_distance_g3 = []\n",
    "\n",
    "for i in range(n):\n",
    "    x_i = df_g3_dig[i,:]\n",
    "    squared_generalized_distance_g3 = (x_i - mu_g3) @ np.linalg.inv(s_g3) @ (x_i - mu_g3).T\n",
    "    copies_of_distance_g3.append(squared_generalized_distance_g3)\n",
    "\n",
    "copies_of_distance_g3\n",
    "\n",
    "fig = sm.qqplot(np.array(copies_of_distance_g3), line='45', dist=distributions.chi2, distargs=(p, ))"
   ]
  },
  {
   "cell_type": "markdown",
   "metadata": {},
   "source": [
    "### Conclusion: In a word, after using two methods to check the normality of three populations, we can conclud that each of the three populations seem to come from a sample of iid multivariate normal obsevations."
   ]
  },
  {
   "cell_type": "code",
   "execution_count": null,
   "metadata": {},
   "outputs": [],
   "source": []
  },
  {
   "cell_type": "code",
   "execution_count": null,
   "metadata": {},
   "outputs": [],
   "source": []
  },
  {
   "attachments": {},
   "cell_type": "markdown",
   "metadata": {},
   "source": [
    "\n",
    "## 3. Assuming normality, independence and that the covariance matrices are equal, perform a One-Way Multivariate ANOVA to test the null hypothesis that the multivariate means are equal in all 3 populations, against the alternative that at least one mean is different from the others. Do you reject the null hypothesis with confidence level 90%?\n",
    "\n",
    "### Mothodology: we set H0: $\\tau_1=\\tau_2=\\tau_3=0$   vs.   H1: at least one $\\tau_i\\neq0$    with $\\alpha=0.1$ . We reject H0 if $(\\frac{\\sum_{n_l}-p-2}{p})(\\frac{1-\\sqrt{\\Lambda^*}}{\\sqrt{\\Lambda^*}})>\\ F_{2p,\\ 2(\\sum_{n_l}-p-2)}(\\alpha)$ . Where $\\Lambda^*=\\frac{|W|}{|B+W|}$ (6-42) and MANOVA Table in Chapter 6 of the textbook.\n"
   ]
  },
  {
   "cell_type": "code",
   "execution_count": 31,
   "metadata": {},
   "outputs": [
    {
     "data": {
      "text/plain": [
       "0.02343863065087846"
      ]
     },
     "execution_count": 31,
     "metadata": {},
     "output_type": "execute_result"
    }
   ],
   "source": [
    "n = 50\n",
    "n_total = 150\n",
    "p = 4\n",
    "g = 3\n",
    "alpha = 0.1\n",
    "\n",
    "matrix_W = (n-1)* (s_g1 + s_g2 + s_g3)\n",
    "\n",
    "matrix_B1 = n*np.outer((mu - mu_g1), (mu - mu_g1))\n",
    "matrix_B2 = n*np.outer((mu - mu_g2), (mu - mu_g2))\n",
    "matrix_B3 = n*np.outer((mu - mu_g3), (mu - mu_g3))\n",
    "matrix_B = matrix_B1 + matrix_B2 + matrix_B3\n",
    "\n",
    "# compute the wilks lambda using the formula (6-42) in the textbook\n",
    "wilks_lambda = np.linalg.det(matrix_W) / np.linalg.det(matrix_B + matrix_W)\n",
    "wilks_lambda"
   ]
  },
  {
   "cell_type": "code",
   "execution_count": null,
   "metadata": {},
   "outputs": [],
   "source": []
  },
  {
   "cell_type": "code",
   "execution_count": 32,
   "metadata": {},
   "outputs": [
    {
     "name": "stdout",
     "output_type": "stream",
     "text": [
      "test_statistic is 199.14534354008362\n",
      "quantiles_of_f_distribution is 1.6916332614240592\n"
     ]
    }
   ],
   "source": [
    "# H0: tao1=tao2=tao3, H1: at least one tao is different from the others\n",
    "# Because p=4, g=3, choosing the fourth test statistic in Table 6.3 of the textbook.\n",
    "\n",
    "test_statistic = ((n_total-p-2)/p)*((1-np.sqrt(wilks_lambda))/np.sqrt(wilks_lambda))\n",
    "\n",
    "quantiles_of_f_distribution = f.ppf(1-alpha, 2*p, 2*(n_total-p-2))\n",
    "\n",
    "print('test_statistic is', test_statistic)\n",
    "print('quantiles_of_f_distribution is', quantiles_of_f_distribution)"
   ]
  },
  {
   "attachments": {},
   "cell_type": "markdown",
   "metadata": {},
   "source": [
    "### Conclusion: Based on the reject condition described in the Chapter 6 of the textbook, because the test statistic is larger than $F_{8,\\ 288}(0.9)$, we should reject the null hypothesis."
   ]
  },
  {
   "cell_type": "code",
   "execution_count": null,
   "metadata": {},
   "outputs": [],
   "source": []
  },
  {
   "cell_type": "code",
   "execution_count": null,
   "metadata": {},
   "outputs": [],
   "source": []
  },
  {
   "attachments": {},
   "cell_type": "markdown",
   "metadata": {},
   "source": [
    "\n",
    "## 4. Do you reach the same conclusion when performing a univariate ANOVA  analysis with only the second column \"Sepal width\"?\n",
    "\n",
    "### Mothodology: we set H0: $\\tau_1=\\tau_2=\\tau_3=0$   vs.   H1: at least one $\\tau_i\\neq0$    with $\\alpha=0.1$ . Based on the ANOVA Table for Computing Univarite Population Means in the Chapter 6 of the textbook, we reject H0 if $F=\\frac{{\\rm SS}_{tr}/(g-1)}{{\\rm SS}_{res}/(\\sum_{n_l}-g)}>\\ F_{g-1,\\ \\sum_{n_l}-g}(\\alpha)$ . "
   ]
  },
  {
   "cell_type": "code",
   "execution_count": 33,
   "metadata": {},
   "outputs": [
    {
     "name": "stdout",
     "output_type": "stream",
     "text": [
      "SS_residuals 16.961999999999996\n",
      "SS_in_between 11.344933333333353\n"
     ]
    }
   ],
   "source": [
    "# compute SS_residuals and SS_in_between\n",
    "n = 50\n",
    "n_total = 150\n",
    "p = 4\n",
    "g = 3\n",
    "alpha = 0.1\n",
    "\n",
    "SS_residuals = (n-1)*(s_g1[1,1] + s_g2[1,1] + s_g3[1,1])\n",
    "SS_in_between = n*((mu[1] - mu_g1[1])**2 + (mu[1] - mu_g2[1])**2 + (mu[1] - mu_g3[1])**2)\n",
    "\n",
    "print('SS_residuals', SS_residuals)\n",
    "print('SS_in_between', SS_in_between)"
   ]
  },
  {
   "cell_type": "code",
   "execution_count": 34,
   "metadata": {},
   "outputs": [
    {
     "data": {
      "text/plain": [
       "(0.11538775510204079, 5.6724666666666765)"
      ]
     },
     "execution_count": 34,
     "metadata": {},
     "output_type": "execute_result"
    }
   ],
   "source": [
    "degrees_of_freedom_SS_res = n_total - g\n",
    "degrees_of_freedom_SS_in_between = g -1\n",
    "\n",
    "SS_residuals/degrees_of_freedom_SS_res, SS_in_between/degrees_of_freedom_SS_in_between"
   ]
  },
  {
   "cell_type": "code",
   "execution_count": 35,
   "metadata": {},
   "outputs": [
    {
     "data": {
      "text/plain": [
       "49.160040089612174"
      ]
     },
     "execution_count": 35,
     "metadata": {},
     "output_type": "execute_result"
    }
   ],
   "source": [
    "F = (SS_in_between/degrees_of_freedom_SS_in_between) / (SS_residuals/degrees_of_freedom_SS_res) \n",
    "F"
   ]
  },
  {
   "cell_type": "code",
   "execution_count": 36,
   "metadata": {},
   "outputs": [
    {
     "data": {
      "text/plain": [
       "2.339032030837414"
      ]
     },
     "execution_count": 36,
     "metadata": {},
     "output_type": "execute_result"
    }
   ],
   "source": [
    "quantiles_of_f_distribution1 = f.ppf(1-alpha, g-1, n_total-g)\n",
    "quantiles_of_f_distribution1"
   ]
  },
  {
   "attachments": {},
   "cell_type": "markdown",
   "metadata": {},
   "source": [
    "### Conclusion: Based on the reject condition described in the Chapter 6 of the textbook(p.300), because ${F=49.16\\ >F}_{2,\\ 147}(0.9)$, we should reject the null hypothesis which is consistent with the result in question 3."
   ]
  },
  {
   "cell_type": "code",
   "execution_count": null,
   "metadata": {},
   "outputs": [],
   "source": []
  },
  {
   "cell_type": "code",
   "execution_count": null,
   "metadata": {},
   "outputs": [],
   "source": []
  },
  {
   "attachments": {},
   "cell_type": "markdown",
   "metadata": {},
   "source": [
    "## 5. Propose a methodology to construct simultanneous 90% confidence intervals for all difference in treatment effects on all 4 components.\n",
    "### Using the Result 6.5 in the textbook to construct simultanneous 90% confidence intervals: \n",
    "$\\left[{\\bar{x}}_{ki}-{\\bar{x}}_{li}-t_{n-g}(\\frac{\\alpha}{pg(g-1)})\\sqrt{\\frac{w_{ii}}{n-g}(\\frac{1}{n_k}+\\frac{1}{n_l})},\\ {\\bar{x}}_{ki}-{\\bar{x}}_{li}+t_{n-g}(\\frac{\\alpha}{pg(g-1)})\\sqrt{\\frac{w_{ii}}{n-g}(\\frac{1}{n_k}+\\frac{1}{n_l})}\\right]$\n",
    "### (1) 90% confidence intervals for the difference between population 1 and population 2: $\\left(\\tau_{1i}-\\tau_{2i}\\right)$ for i=1,2,3,4\n",
    " $\\tau_{11}-\\tau_{21}=\\left(-1.21,-0.65\\right)$\\\n",
    " $\\tau_{12}-\\tau_{22}=\\left(0.48,0.84\\right)$\\\n",
    " $\\tau_{13}-\\tau_{23}=\\left(-3.03,-2.57\\right)$\\\n",
    " $\\tau_{14}-\\tau_{24}=\\left(-1.19,-0.97\\right)$"
   ]
  },
  {
   "cell_type": "code",
   "execution_count": 37,
   "metadata": {
    "scrolled": false
   },
   "outputs": [
    {
     "name": "stdout",
     "output_type": "stream",
     "text": [
      "confidence interval for the difference between population 1 and population 2 on the first component Sepal length is (-1.2053538897788243, -0.6546461102211769)\n",
      "confidence interval for the difference between population 1 and population 2 on the second component Sepal width is (0.476305637735448, 0.8396943622645527)\n",
      "confidence interval for the difference between population 1 and population 2 on the third component Petal.Length is (-3.0281800729738153, -2.567819927026184)\n",
      "confidence interval for the difference between population 1 and population 2 on the fourth component Petal.Width is (-1.1894645236461114, -0.9705354763538888)\n"
     ]
    }
   ],
   "source": [
    "diff_g1 = mu_g1 - mu\n",
    "diff_g2 = mu_g2 - mu\n",
    "diff_g3 = mu_g3 - mu\n",
    "\n",
    "# 90% confidence intervals for the difference between population 1 and population 2 on the first component 'Sepal length'\n",
    "diff_g1_g2_1 = diff_g1[0] - diff_g2[0]\n",
    "var_g1_g2_1 = (1/n + 1/n)*(matrix_W[0, 0]/(n_total-g))\n",
    "\n",
    "CI_g1_g2_1_lower_bound = diff_g1_g2_1 - t.ppf(1-alpha/(p*g*(g-1)), n_total-g)*np.sqrt(var_g1_g2_1)\n",
    "CI_g1_g2_1_upper_bound = diff_g1_g2_1 + t.ppf(1-alpha/(p*g*(g-1)), n_total-g)*np.sqrt(var_g1_g2_1)\n",
    "\n",
    "print('confidence interval for the difference between population 1 \\\n",
    "and population 2 on the first component Sepal length is',\\\n",
    "      (CI_g1_g2_1_lower_bound, CI_g1_g2_1_upper_bound))\n",
    "\n",
    "\n",
    "# 90% confidence intervals for the difference between population 1 and population 2 on the second component 'Sepal width'\n",
    "diff_g1_g2_2 = diff_g1[1] - diff_g2[1]\n",
    "var_g1_g2_2 = (1/n + 1/n)*(matrix_W[1, 1]/(n_total-g))\n",
    "\n",
    "CI_g1_g2_2_lower_bound = diff_g1_g2_2 - t.ppf(1-alpha/(p*g*(g-1)), n_total-g)*np.sqrt(var_g1_g2_2)\n",
    "CI_g1_g2_2_upper_bound = diff_g1_g2_2 + t.ppf(1-alpha/(p*g*(g-1)), n_total-g)*np.sqrt(var_g1_g2_2)\n",
    "\n",
    "print('confidence interval for the difference between population 1 \\\n",
    "and population 2 on the second component Sepal width is',\\\n",
    "      (CI_g1_g2_2_lower_bound, CI_g1_g2_2_upper_bound))\n",
    "\n",
    "\n",
    "# 90% confidence intervals for the difference between population 1 and population 2 on the third component 'Petal.Length'\n",
    "diff_g1_g2_3 = diff_g1[2] - diff_g2[2]\n",
    "var_g1_g2_3 = (1/n + 1/n)*(matrix_W[2, 2]/(n_total-g))\n",
    "\n",
    "CI_g1_g2_3_lower_bound = diff_g1_g2_3 - t.ppf(1-alpha/(p*g*(g-1)), n_total-g)*np.sqrt(var_g1_g2_3)\n",
    "CI_g1_g2_3_upper_bound = diff_g1_g2_3 + t.ppf(1-alpha/(p*g*(g-1)), n_total-g)*np.sqrt(var_g1_g2_3)\n",
    "\n",
    "print('confidence interval for the difference between population 1 \\\n",
    "and population 2 on the third component Petal.Length is',\\\n",
    "      (CI_g1_g2_3_lower_bound, CI_g1_g2_3_upper_bound))\n",
    "\n",
    "\n",
    "# 90% confidence intervals for the difference between population 1 and population 2 on the fourth component 'Petal.Width'\n",
    "diff_g1_g2_4 = diff_g1[3] - diff_g2[3]\n",
    "var_g1_g2_4 = (1/n + 1/n)*(matrix_W[3, 3]/(n_total-g))\n",
    "\n",
    "CI_g1_g2_4_lower_bound = diff_g1_g2_4 - t.ppf(1-alpha/(p*g*(g-1)), n_total-g)*np.sqrt(var_g1_g2_4)\n",
    "CI_g1_g2_4_upper_bound = diff_g1_g2_4 + t.ppf(1-alpha/(p*g*(g-1)), n_total-g)*np.sqrt(var_g1_g2_4)\n",
    "\n",
    "print('confidence interval for the difference between population 1 \\\n",
    "and population 2 on the fourth component Petal.Width is',\\\n",
    "      (CI_g1_g2_4_lower_bound, CI_g1_g2_4_upper_bound))\n",
    "\n"
   ]
  },
  {
   "cell_type": "code",
   "execution_count": null,
   "metadata": {},
   "outputs": [],
   "source": []
  },
  {
   "cell_type": "markdown",
   "metadata": {},
   "source": [
    "### (2) 90% confidence intervals for the difference between population 1 and population 3: $\\left(\\tau_{1i}-\\tau_{3i}\\right)$ for i=1,2,3,4\n",
    " $\\tau_{11}-\\tau_{31}=\\left(-1.86,-1.31\\right)$\\\n",
    " $\\tau_{12}-\\tau_{32}=\\left(0.27,0.64\\right)$\\\n",
    " $\\tau_{13}-\\tau_{33}=\\left(-4.32,-3.86\\right)$\\\n",
    " $\\tau_{14}-\\tau_{34}=\\left(-1.89,-1.67\\right)$"
   ]
  },
  {
   "cell_type": "code",
   "execution_count": 38,
   "metadata": {},
   "outputs": [
    {
     "name": "stdout",
     "output_type": "stream",
     "text": [
      "confidence interval for the difference between population 1 and population 3 on the first component Sepal length is (-1.8573538897788227, -1.3066461102211753)\n",
      "confidence interval for the difference between population 1 and population 3 on the second component Sepal width is (0.2723056377354487, 0.6356943622645534)\n",
      "confidence interval for the difference between population 1 and population 3 on the third component Petal.Length is (-4.320180072973815, -3.859819927026184)\n",
      "confidence interval for the difference between population 1 and population 3 on the fourth component Petal.Width is (-1.8894645236461112, -1.6705354763538884)\n"
     ]
    }
   ],
   "source": [
    "# 90% confidence intervals for the difference between population 1 and population 3 on the first component 'Sepal length'\n",
    "diff_g1_g3_1 = diff_g1[0] - diff_g3[0]\n",
    "var_g1_g3_1 = (1/n + 1/n)*(matrix_W[0, 0]/(n_total-g))\n",
    "\n",
    "CI_g1_g3_1_lower_bound = diff_g1_g3_1 - t.ppf(1-alpha/(p*g*(g-1)), n_total-g)*np.sqrt(var_g1_g3_1)\n",
    "CI_g1_g3_1_upper_bound = diff_g1_g3_1 + t.ppf(1-alpha/(p*g*(g-1)), n_total-g)*np.sqrt(var_g1_g3_1)\n",
    "\n",
    "print('confidence interval for the difference between population 1 \\\n",
    "and population 3 on the first component Sepal length is',\\\n",
    "      (CI_g1_g3_1_lower_bound, CI_g1_g3_1_upper_bound))\n",
    "\n",
    "\n",
    "# 90% confidence intervals for the difference between population 1 and population 3 on the second component 'Sepal width'\n",
    "diff_g1_g3_2 = diff_g1[1] - diff_g3[1]\n",
    "var_g1_g3_2 = (1/n + 1/n)*(matrix_W[1, 1]/(n_total-g))\n",
    "\n",
    "CI_g1_g3_2_lower_bound = diff_g1_g3_2 - t.ppf(1-alpha/(p*g*(g-1)), n_total-g)*np.sqrt(var_g1_g3_2)\n",
    "CI_g1_g3_2_upper_bound = diff_g1_g3_2 + t.ppf(1-alpha/(p*g*(g-1)), n_total-g)*np.sqrt(var_g1_g3_2)\n",
    "\n",
    "print('confidence interval for the difference between population 1 \\\n",
    "and population 3 on the second component Sepal width is',\\\n",
    "      (CI_g1_g3_2_lower_bound, CI_g1_g3_2_upper_bound))\n",
    "\n",
    "\n",
    "# 90% confidence intervals for the difference between population 1 and population 3 on the third component 'Petal.Length'\n",
    "diff_g1_g3_3 = diff_g1[2] - diff_g3[2]\n",
    "var_g1_g3_3 = (1/n + 1/n)*(matrix_W[2, 2]/(n_total-g))\n",
    "\n",
    "CI_g1_g3_3_lower_bound = diff_g1_g3_3 - t.ppf(1-alpha/(p*g*(g-1)), n_total-g)*np.sqrt(var_g1_g3_3)\n",
    "CI_g1_g3_3_upper_bound = diff_g1_g3_3 + t.ppf(1-alpha/(p*g*(g-1)), n_total-g)*np.sqrt(var_g1_g3_3)\n",
    "\n",
    "print('confidence interval for the difference between population 1 \\\n",
    "and population 3 on the third component Petal.Length is',\\\n",
    "      (CI_g1_g3_3_lower_bound, CI_g1_g3_3_upper_bound))\n",
    "\n",
    "\n",
    "# 90% confidence intervals for the difference between population 1 and population 3 on the fourth component 'Petal.Width'\n",
    "diff_g1_g3_4 = diff_g1[3] - diff_g3[3]\n",
    "var_g1_g3_4 = (1/n + 1/n)*(matrix_W[3, 3]/(n_total-g))\n",
    "\n",
    "CI_g1_g3_4_lower_bound = diff_g1_g3_4 - t.ppf(1-alpha/(p*g*(g-1)), n_total-g)*np.sqrt(var_g1_g3_4)\n",
    "CI_g1_g3_4_upper_bound = diff_g1_g3_4 + t.ppf(1-alpha/(p*g*(g-1)), n_total-g)*np.sqrt(var_g1_g3_4)\n",
    "\n",
    "print('confidence interval for the difference between population 1 \\\n",
    "and population 3 on the fourth component Petal.Width is',\\\n",
    "      (CI_g1_g3_4_lower_bound, CI_g1_g3_4_upper_bound))\n",
    "\n"
   ]
  },
  {
   "cell_type": "markdown",
   "metadata": {},
   "source": [
    "### (3) 90% confidence intervals for the difference between population 2 and population 3: $\\left(\\tau_{2i}-\\tau_{3i}\\right)$ for i=1,2,3,4\n",
    " $\\tau_{21}-\\tau_{31}=\\left(-0.93,-0.38\\right)$\\\n",
    " $\\tau_{22}-\\tau_{32}=\\left(-0.39,-0.02\\right)$\\\n",
    " $\\tau_{23}-\\tau_{33}=\\left(-1.52,-1.06\\right)$\\\n",
    " $\\tau_{24}-\\tau_{34}=\\left(-0.81,-0.59\\right)$"
   ]
  },
  {
   "cell_type": "code",
   "execution_count": 39,
   "metadata": {
    "scrolled": true
   },
   "outputs": [
    {
     "name": "stdout",
     "output_type": "stream",
     "text": [
      "confidence interval for the difference between population 2 and population 3 on the first component Sepal length is (-0.927353889778822, -0.37664611022117467)\n",
      "confidence interval for the difference between population 2 and population 3 on the second component Sepal width is (-0.38569436226455167, -0.022305637735446943)\n",
      "confidence interval for the difference between population 2 and population 3 on the third component Petal.Length is (-1.5221800729738155, -1.061819927026184)\n",
      "confidence interval for the difference between population 2 and population 3 on the fourth component Petal.Width is (-0.8094645236461112, -0.5905354763538887)\n"
     ]
    }
   ],
   "source": [
    "# 90% confidence intervals for the difference between population 2 and population 3 on the first component 'Sepal length'\n",
    "diff_g2_g3_1 = diff_g2[0] - diff_g3[0]\n",
    "var_g2_g3_1 = (1/n + 1/n)*(matrix_W[0, 0]/(n_total-g))\n",
    "\n",
    "CI_g2_g3_1_lower_bound = diff_g2_g3_1 - t.ppf(1-alpha/(p*g*(g-1)), n_total-g)*np.sqrt(var_g2_g3_1)\n",
    "CI_g2_g3_1_upper_bound = diff_g2_g3_1 + t.ppf(1-alpha/(p*g*(g-1)), n_total-g)*np.sqrt(var_g2_g3_1)\n",
    "\n",
    "print('confidence interval for the difference between population 2 \\\n",
    "and population 3 on the first component Sepal length is',\\\n",
    "      (CI_g2_g3_1_lower_bound, CI_g2_g3_1_upper_bound))\n",
    "\n",
    "\n",
    "# 90% confidence intervals for the difference between population 2 and population 3 on the second component 'Sepal width'\n",
    "diff_g2_g3_2 = diff_g2[1] - diff_g3[1]\n",
    "var_g2_g3_2 = (1/n + 1/n)*(matrix_W[1, 1]/(n_total-g))\n",
    "\n",
    "CI_g2_g3_2_lower_bound = diff_g2_g3_2 - t.ppf(1-alpha/(p*g*(g-1)), n_total-g)*np.sqrt(var_g2_g3_2)\n",
    "CI_g2_g3_2_upper_bound = diff_g2_g3_2 + t.ppf(1-alpha/(p*g*(g-1)), n_total-g)*np.sqrt(var_g2_g3_2)\n",
    "\n",
    "print('confidence interval for the difference between population 2 \\\n",
    "and population 3 on the second component Sepal width is',\\\n",
    "      (CI_g2_g3_2_lower_bound, CI_g2_g3_2_upper_bound))\n",
    "\n",
    "\n",
    "# 90% confidence intervals for the difference between population 2 and population 3 on the third component 'Petal.Length'\n",
    "diff_g2_g3_3 = diff_g2[2] - diff_g3[2]\n",
    "var_g2_g3_3 = (1/n + 1/n)*(matrix_W[2, 2]/(n_total-g))\n",
    "\n",
    "CI_g2_g3_3_lower_bound = diff_g2_g3_3 - t.ppf(1-alpha/(p*g*(g-1)), n_total-g)*np.sqrt(var_g2_g3_3)\n",
    "CI_g2_g3_3_upper_bound = diff_g2_g3_3 + t.ppf(1-alpha/(p*g*(g-1)), n_total-g)*np.sqrt(var_g2_g3_3)\n",
    "\n",
    "print('confidence interval for the difference between population 2 \\\n",
    "and population 3 on the third component Petal.Length is',\\\n",
    "      (CI_g2_g3_3_lower_bound, CI_g2_g3_3_upper_bound))\n",
    "\n",
    "\n",
    "# 90% confidence intervals for the difference between population 2 and population 3 on the fourth component 'Petal.Width'\n",
    "diff_g2_g3_4 = diff_g2[3] - diff_g3[3]\n",
    "var_g2_g3_4 = (1/n + 1/n)*(matrix_W[3, 3]/(n_total-g))\n",
    "\n",
    "CI_g2_g3_4_lower_bound = diff_g2_g3_4 - t.ppf(1-alpha/(p*g*(g-1)), n_total-g)*np.sqrt(var_g2_g3_4)\n",
    "CI_g2_g3_4_upper_bound = diff_g2_g3_4 + t.ppf(1-alpha/(p*g*(g-1)), n_total-g)*np.sqrt(var_g2_g3_4)\n",
    "\n",
    "print('confidence interval for the difference between population 2 \\\n",
    "and population 3 on the fourth component Petal.Width is',\\\n",
    "      (CI_g2_g3_4_lower_bound, CI_g2_g3_4_upper_bound))\n",
    "\n"
   ]
  },
  {
   "cell_type": "code",
   "execution_count": null,
   "metadata": {},
   "outputs": [],
   "source": []
  },
  {
   "cell_type": "code",
   "execution_count": null,
   "metadata": {},
   "outputs": [],
   "source": []
  },
  {
   "cell_type": "markdown",
   "metadata": {},
   "source": [
    "## 6. By generating independently 1000 times a dataset with similar size, number of populations and number of dimension as the above dataset, verify that, under H0, the methodology you used in question 3 rejects H0 approximately 100 times out of 1000. (If possible on your laptop, run 10000 simulations instead of 1000; you will not be penalized if only 1000 simulations were run).\n",
    "### (1) Generating the dataset"
   ]
  },
  {
   "cell_type": "code",
   "execution_count": 40,
   "metadata": {},
   "outputs": [],
   "source": [
    "p = 4\n",
    "\n",
    "Sigma = 1.5*np.eye(p) + 0.2*np.ones_like(np.eye(p))\n",
    "\n",
    "overall_mean = mu\n",
    "\n",
    "populations = [\"Iris Setosa\", \"Iris Versicolour\", \"Iris Virginica\"]\n",
    "g = len(populations)\n",
    "\n",
    "\n",
    "population_sizes = {\n",
    "    \"Iris Setosa\": 50,   # n0 = 50\n",
    "    \"Iris Versicolour\": 50,  # n1 = 50\n",
    "    \"Iris Virginica\": 50,   # n2 = 50\n",
    "}\n",
    "treatment_effects_H1 = {\n",
    "    \"Iris Setosa\": mu_g1,\n",
    "    \"Iris Versicolour\": mu_g2,\n",
    "    \"Iris Virginica\": mu_g3,\n",
    "}\n",
    "treatment_effects_H0 = {\n",
    "    \"Iris Setosa\": np.array([0.0, 0.0, 0.0, 0.0,]),\n",
    "    \"Iris Versicolour\": np.array([0.0, 0.0, 0.0, 0.0,]),\n",
    "    \"Iris Virginica\": np.array([0.0, 0.0, 0.0, 0.0,]),\n",
    "}\n",
    "\n",
    "def generate_dataset(treatment_effects):\n",
    "    observations = {}\n",
    "    for l in populations:\n",
    "        observations[l] = np.random.multivariate_normal(overall_mean + treatment_effects[l],\\\n",
    "                                       Sigma,\n",
    "                                       size=population_sizes[l])\n",
    "    return observations"
   ]
  },
  {
   "cell_type": "code",
   "execution_count": 41,
   "metadata": {},
   "outputs": [
    {
     "name": "stdout",
     "output_type": "stream",
     "text": [
      "Population: Iris Setosa  - size: 50\n",
      "[[ 5.81631556e+00  3.47950350e+00  3.66172245e+00  1.78779657e+00]\n",
      " [ 7.98299809e+00  3.94540800e+00  5.23265520e+00  1.32355319e+00]\n",
      " [ 4.29205973e+00  9.80981803e-01  5.78924036e+00  1.00071715e+00]\n",
      " [ 6.37649500e+00  4.06986363e+00  4.42284501e+00  1.74921078e+00]\n",
      " [ 8.75327458e+00  3.62276235e+00  5.89980286e+00  4.73334640e-01]\n",
      " [ 6.46295868e+00  2.26467674e+00  3.29883717e+00  1.59551774e+00]\n",
      " [ 5.90431410e+00  3.68844247e+00  5.52110688e+00  2.60697623e+00]\n",
      " [ 5.23582084e+00  3.61222581e+00  2.67140741e+00  1.63833277e+00]\n",
      " [ 6.76934289e+00  3.37109022e+00  2.04090713e+00 -1.92465703e-01]\n",
      " [ 6.03825147e+00  5.05102448e+00  3.99039333e+00  1.53733303e+00]\n",
      " [ 5.64174441e+00  2.99339180e+00  3.61270095e+00 -8.63184679e-01]\n",
      " [ 4.39633955e+00  1.30456203e+00  1.81790445e+00  2.71176614e-01]\n",
      " [ 6.68167393e+00  4.77433101e+00  7.16268612e+00  2.19502915e+00]\n",
      " [ 5.53158730e+00  1.24699644e+00  4.10283617e+00  3.74111145e-01]\n",
      " [ 4.36281767e+00  1.06835648e+00  6.56874340e-01  1.43710625e+00]\n",
      " [ 3.56094046e+00  2.78802499e+00  3.68173082e+00  2.68085691e+00]\n",
      " [ 6.07447210e+00  3.77511543e+00  3.30408600e+00 -1.62848620e-01]\n",
      " [ 4.36771738e+00  3.51142235e+00  4.58219261e+00 -1.14082935e-01]\n",
      " [ 5.77767786e+00  5.64211067e+00  2.29427011e+00  8.45172143e-01]\n",
      " [ 5.50975843e+00  5.89325779e+00  1.72407126e+00  2.87498700e+00]\n",
      " [ 7.55140265e+00  2.32022295e+00  4.20676870e+00  3.60707538e+00]\n",
      " [ 3.05731068e+00  7.04405188e-01  2.95107843e+00  1.07309297e+00]\n",
      " [ 9.88998014e-01 -9.88444370e-01  1.19683169e+00  1.71853845e+00]\n",
      " [ 5.71551195e+00  4.83210953e+00  3.18938252e+00  4.22962118e+00]\n",
      " [ 5.81879373e+00  2.05272834e+00  4.34845882e+00  1.13335248e+00]\n",
      " [ 6.57378766e+00  4.76036415e+00  3.63572356e+00  3.15914914e+00]\n",
      " [ 6.45022559e+00  1.35589395e+00  2.70684194e+00  2.97450471e-01]\n",
      " [ 3.68536566e+00  4.95892732e+00  4.69146038e+00 -2.26255136e+00]\n",
      " [ 4.10026183e+00  4.22463437e+00  4.69313977e+00  3.87818115e+00]\n",
      " [ 5.83178149e+00  2.77688398e+00  4.21823945e+00  1.86013361e+00]\n",
      " [ 6.07784631e+00  2.74648739e+00  3.59972553e+00  1.67301827e+00]\n",
      " [ 6.10065416e+00  6.09254348e+00  6.82459708e+00  2.57943554e+00]\n",
      " [ 6.45982769e+00  3.28520459e+00  4.36677710e+00  3.51381929e+00]\n",
      " [ 5.09865025e+00  2.17164443e+00  3.87337689e+00  3.75849433e+00]\n",
      " [ 5.50890609e+00  5.04195866e+00  3.96586934e+00  2.14645436e+00]\n",
      " [ 6.98402664e+00  3.83564681e+00  2.85411697e+00  2.38276852e-01]\n",
      " [ 4.89764495e+00  9.10895099e-01  2.43178527e+00  5.86553744e-01]\n",
      " [ 7.00468482e+00  4.84160343e+00  4.68563256e+00  2.76489143e+00]\n",
      " [ 5.59530727e+00  3.50883004e+00  3.93981865e+00  6.41680874e-02]\n",
      " [ 7.60664310e+00  4.54487949e+00  2.90720975e+00  1.98713551e-01]\n",
      " [ 6.11186306e+00  4.63088316e-01  2.99842357e+00  1.46739485e+00]\n",
      " [ 5.11085816e+00  2.83245279e+00  3.72082211e+00  2.29356656e+00]\n",
      " [ 6.45240584e+00  4.20326517e+00  2.36080370e+00  7.92360981e-01]\n",
      " [ 9.09901657e+00  2.57161619e+00  3.58624931e+00  5.81678747e-01]\n",
      " [ 5.94902713e+00  3.37352894e+00  2.57792094e+00  9.29549407e-01]\n",
      " [ 5.78397059e+00  3.01344122e+00  2.80958020e+00  1.16244022e+00]\n",
      " [ 4.97361283e+00  3.70917640e+00  4.45382112e+00  3.33840788e+00]\n",
      " [ 5.88735311e+00  3.99535493e+00  2.88385555e+00 -3.17486001e-03]\n",
      " [ 6.20166261e+00  5.56387145e+00  4.77540741e+00  1.73641673e+00]\n",
      " [ 5.78854197e+00  3.29400579e+00  4.73822712e-01 -3.08639218e-01]]\n",
      "\n",
      "Population: Iris Versicolour  - size: 50\n",
      "[[ 6.02152336  2.59935564  3.31944651  2.35865832]\n",
      " [ 6.91148587  4.51096557  3.32214765  2.74851021]\n",
      " [ 7.10979868  2.02077463  0.2292896   2.84439813]\n",
      " [ 5.48972921  0.65201999  2.15363458 -2.42352352]\n",
      " [ 5.92678278  3.4525512   4.5718797   1.72692277]\n",
      " [ 6.87853687  2.7485078   3.56245287 -0.02188861]\n",
      " [ 6.39039343  2.66861249  3.49465372  1.45900893]\n",
      " [ 4.04449032  5.58426841  4.08416008  3.01524627]\n",
      " [ 7.75194408  3.62659151  6.01284076  2.15356447]\n",
      " [ 5.94464602  5.43515994  6.0571471   1.20803688]\n",
      " [ 6.47909729  1.80216937  2.08195676  0.08962848]\n",
      " [ 4.13774308  3.91751545  6.44094835  3.49311592]\n",
      " [ 6.39197458  3.90192306  3.85588548  1.8416797 ]\n",
      " [ 3.02095731  1.53311633  3.46239203  0.7623793 ]\n",
      " [ 7.11072183  1.0386203   3.44202982  0.43993417]\n",
      " [ 5.04593322  1.95366923  4.28039518  2.09412261]\n",
      " [ 4.13036442  2.818585    5.13374877  2.43655584]\n",
      " [ 6.35474151  2.52557877  3.08295366  1.77423057]\n",
      " [ 6.33043893  3.12056104  3.50499284  0.89031695]\n",
      " [ 6.72042091  4.45070065  2.74365161 -0.04761177]\n",
      " [ 5.85876797  0.48540997  5.50848982 -0.48153189]\n",
      " [ 6.3323424   0.64353728  3.51693095 -0.46040198]\n",
      " [ 2.81996953  1.83708526  2.5065807   2.40577173]\n",
      " [ 5.75639698  4.32456974  4.94402551  3.22397045]\n",
      " [ 8.85782058  1.77781718  3.71830517  0.67259017]\n",
      " [ 5.75674825  4.51855464  4.54625259 -1.035559  ]\n",
      " [ 7.00483404  3.44588183  5.81330348  1.60328975]\n",
      " [ 5.54343589  3.34527764  2.04395616  2.21241419]\n",
      " [ 5.25921545  3.86251262  4.06375912  0.52487122]\n",
      " [ 7.13433253  2.1413281   5.88827847  1.65832328]\n",
      " [ 4.26791978  3.82046014  3.10642058  2.96098077]\n",
      " [ 4.18222624  0.60772787  3.04821354  1.77092887]\n",
      " [ 6.08640959  2.67423161  6.44413257  2.64948788]\n",
      " [ 5.95504075  3.81166746  3.47750025  2.38536609]\n",
      " [ 5.76952732  4.59464362  5.80154514  2.7388004 ]\n",
      " [ 6.10315196  1.3107211   2.75268306  0.73329725]\n",
      " [ 5.3022489   4.60811638  3.23438802  0.82440044]\n",
      " [ 6.44511462  2.65255557  1.84299225 -0.10233776]\n",
      " [ 8.08185107  5.63440229  4.84505216  1.97456162]\n",
      " [ 5.26963485  4.48121439  3.38776908  2.08380088]\n",
      " [ 4.93854396  2.04239238  3.74468065  0.44174552]\n",
      " [ 6.5308052   3.97834592  2.00403104  0.2765756 ]\n",
      " [ 6.72949973 -0.09598294  3.2450616   1.17990107]\n",
      " [ 5.05061219  3.63839077  3.44914877  1.68098159]\n",
      " [ 6.05160199  4.15515124  4.35324321 -0.81524928]\n",
      " [ 5.3686863   3.68574566  4.79704453  3.60752802]\n",
      " [ 5.10211414  3.54044024  5.57821603 -1.5176191 ]\n",
      " [ 5.28828676  4.10790924  2.54236684 -0.15694741]\n",
      " [ 2.89997809  0.62217093  4.35851087  1.45619968]\n",
      " [ 6.91560708  3.20513087  3.35487837  0.21888539]]\n",
      "\n",
      "Population: Iris Virginica  - size: 50\n",
      "[[ 5.18272282e+00  3.79950149e+00  3.16972586e+00  8.24608466e-01]\n",
      " [ 6.44624039e+00  3.18017797e+00  2.10226079e+00 -1.93210152e+00]\n",
      " [ 3.42050111e+00  2.76565176e+00  5.39927767e+00  1.19959129e+00]\n",
      " [ 5.99036214e+00  1.74782573e+00  4.29394972e+00  1.73528543e+00]\n",
      " [ 4.24371113e+00  3.50940220e+00  1.19118482e+00 -4.57362017e-01]\n",
      " [ 7.00831836e+00  6.16773444e+00  3.12367068e+00  1.51221002e+00]\n",
      " [ 7.11739521e+00  4.18728302e+00  1.97751790e+00 -5.63108539e-01]\n",
      " [ 3.77757780e+00  2.48047156e+00  4.00340449e+00 -1.05711822e+00]\n",
      " [ 5.98665608e+00  3.62912356e-04  2.66179966e+00 -1.05510061e+00]\n",
      " [ 3.78981146e+00  1.98976432e+00  4.51021573e+00  2.62307009e+00]\n",
      " [ 5.62824754e+00  3.41753305e+00  3.67567014e+00  1.50220636e+00]\n",
      " [ 5.87030848e+00  4.30301314e+00  4.48910360e+00  2.18543055e+00]\n",
      " [ 4.00404258e+00  1.01330095e+00  2.40157222e+00  3.69050491e-01]\n",
      " [ 5.21724744e+00  2.38535234e+00  1.13487853e+00  1.14832465e+00]\n",
      " [ 5.10224699e+00  4.40563253e+00  6.34240567e+00  9.50757929e-02]\n",
      " [ 6.58267407e+00  3.05276075e+00  4.10652537e+00  4.40715156e+00]\n",
      " [ 7.06083817e+00  5.57750249e+00  6.83649146e+00  2.17681646e+00]\n",
      " [ 6.97856779e+00  3.78030079e+00  4.95078579e+00  1.00342472e+00]\n",
      " [ 7.12881250e+00  5.27403620e+00  4.01151041e+00  1.59241888e+00]\n",
      " [ 7.03156015e+00  2.04300546e+00  2.70126743e+00  2.57430880e+00]\n",
      " [ 5.36839548e+00  3.00875248e+00  7.21264819e-01  2.34699042e+00]\n",
      " [ 4.50671030e+00  2.02701076e+00  3.28808448e+00 -4.22812946e-01]\n",
      " [ 6.35837861e+00  3.52685651e+00  3.64137065e+00  2.08509164e+00]\n",
      " [ 4.39398771e+00  3.04648718e+00  2.83125727e+00  1.31529031e+00]\n",
      " [ 6.03292942e+00  1.68430090e+00  3.27090460e+00  1.10135486e+00]\n",
      " [ 8.28030305e+00  1.16241268e+00  4.91690102e+00  3.30225378e-02]\n",
      " [ 5.97659496e+00  2.37182266e+00  3.16502549e+00  2.27659593e+00]\n",
      " [ 6.69179245e+00  2.08350638e+00  4.14236620e+00 -1.47168195e-01]\n",
      " [ 8.70713116e+00  2.62633711e+00  4.66571665e+00  1.95134315e-01]\n",
      " [ 9.30343695e+00  2.72253883e+00  2.99043417e+00  3.51785268e-02]\n",
      " [ 8.93701581e+00  4.49905480e+00  4.38091724e+00  2.34357424e+00]\n",
      " [ 5.29851822e+00  3.65851051e+00  3.32130932e+00  4.97064740e-01]\n",
      " [ 4.76045949e+00  1.51032603e+00  4.05369811e+00  1.40272473e+00]\n",
      " [ 7.42517269e+00  5.37752053e+00  2.20931698e+00  1.09868729e+00]\n",
      " [ 7.66478628e+00  3.96751750e+00  2.10668792e+00  1.88601115e+00]\n",
      " [ 6.46283428e+00  2.10625725e+00  2.41916796e+00  1.98078017e+00]\n",
      " [ 6.60392616e+00  2.88280704e+00  5.47110742e+00  1.85830429e+00]\n",
      " [ 7.17523793e+00  3.31809219e+00  4.20967603e+00  2.93465380e+00]\n",
      " [ 3.43212632e+00  3.74011599e+00  3.50974358e+00  3.07046915e+00]\n",
      " [ 6.87563891e+00  5.67232392e+00  6.05399297e+00  2.74074483e+00]\n",
      " [ 7.05872935e+00  1.13277788e+00  2.73796983e+00 -2.08801458e-01]\n",
      " [ 5.72191345e+00  3.78378405e+00  4.60733435e+00  1.54254942e+00]\n",
      " [ 5.77027401e+00  6.70267557e+00  2.17290150e+00  3.82665187e+00]\n",
      " [ 6.89202376e+00  2.66730879e+00  4.90317638e+00  1.24506252e+00]\n",
      " [ 6.66963878e+00  4.68799648e+00  4.44294813e+00 -9.97094347e-02]\n",
      " [ 4.86164036e+00  3.30838803e+00  6.10666735e+00  2.30899820e+00]\n",
      " [ 6.79495870e+00  3.08725688e+00  5.13332538e+00  4.57139629e+00]\n",
      " [ 5.00993854e+00  1.56394754e+00  3.47766594e+00  2.84242597e+00]\n",
      " [ 4.60271727e+00  4.73644400e+00  6.36968874e+00 -5.68853878e-02]\n",
      " [ 4.53959023e+00  4.65706140e+00  1.92987025e+00  3.32902935e+00]]\n",
      "\n"
     ]
    }
   ],
   "source": [
    "# Example\n",
    "\n",
    "observations = generate_dataset(treatment_effects_H0)\n",
    "\n",
    "for l in populations:\n",
    "    print(\"Population:\", l, \" - size:\", population_sizes[l])\n",
    "    print(observations[l])\n",
    "    print()"
   ]
  },
  {
   "cell_type": "code",
   "execution_count": 42,
   "metadata": {},
   "outputs": [
    {
     "data": {
      "text/plain": [
       "150"
      ]
     },
     "execution_count": 42,
     "metadata": {},
     "output_type": "execute_result"
    }
   ],
   "source": [
    "total_sample_size = sum(population_sizes.values())\n",
    "total_sample_size"
   ]
  },
  {
   "cell_type": "code",
   "execution_count": 43,
   "metadata": {},
   "outputs": [
    {
     "data": {
      "text/plain": [
       "array([5.87067729, 3.17533486, 3.73655925, 1.35094268])"
      ]
     },
     "execution_count": 43,
     "metadata": {},
     "output_type": "execute_result"
    }
   ],
   "source": [
    "overall_empirical_mean = sum([sum(observations[l]) for l in populations])/total_sample_size\n",
    "overall_empirical_mean # this is our x_bar"
   ]
  },
  {
   "cell_type": "code",
   "execution_count": 44,
   "metadata": {},
   "outputs": [
    {
     "data": {
      "text/plain": [
       "{'Iris Setosa': array([5.76005005, 3.28161536, 3.62791623, 1.42532999]),\n",
       " 'Iris Versicolour': array([5.81708896, 2.99637311, 3.85508735, 1.27116622]),\n",
       " 'Iris Virginica': array([6.03489286, 3.2480161 , 3.72667417, 1.35633184])}"
      ]
     },
     "execution_count": 44,
     "metadata": {},
     "output_type": "execute_result"
    }
   ],
   "source": [
    "empirical_means_within_populations = {}\n",
    "for l in populations:\n",
    "    empirical_means_within_populations[l] = sum(observations[l])/population_sizes[l]\n",
    "empirical_means_within_populations"
   ]
  },
  {
   "cell_type": "code",
   "execution_count": 45,
   "metadata": {},
   "outputs": [
    {
     "data": {
      "text/plain": [
       "array([[265.53863785,  62.63941541,  30.38021701, -15.04924355],\n",
       "       [ 62.63941541, 316.74450227,  75.27063185,  67.88815875],\n",
       "       [ 30.38021701,  75.27063185, 280.59678822,  53.8163238 ],\n",
       "       [-15.04924355,  67.88815875,  53.8163238 , 278.97669179]])"
      ]
     },
     "execution_count": 45,
     "metadata": {},
     "output_type": "execute_result"
    }
   ],
   "source": [
    "matrix_W0 = sum([ np.outer(observations[l][i,]-empirical_means_within_populations[l],\n",
    "                          observations[l][i,]-empirical_means_within_populations[l])\n",
    "                     for l in populations\n",
    "                     for i in range(population_sizes[l])\n",
    "                   ])\n",
    "matrix_W0"
   ]
  },
  {
   "cell_type": "code",
   "execution_count": 46,
   "metadata": {},
   "outputs": [
    {
     "data": {
      "text/plain": [
       "array([[ 2.10384243,  0.48840672,  0.20219351, -0.15345962],\n",
       "       [ 0.48840672,  2.43027079, -1.67385453,  1.12872731],\n",
       "       [ 0.20219351, -1.67385453,  1.29749654, -0.87953433],\n",
       "       [-0.15345962,  1.12872731, -0.87953433,  0.59633993]])"
      ]
     },
     "execution_count": 46,
     "metadata": {},
     "output_type": "execute_result"
    }
   ],
   "source": [
    "matrix_B0 = sum([ population_sizes[l] * \\\n",
    "                 np.outer(overall_empirical_mean-empirical_means_within_populations[l],\n",
    "                          overall_empirical_mean-empirical_means_within_populations[l])\n",
    "                     for l in populations\n",
    "                   ])\n",
    "matrix_B0"
   ]
  },
  {
   "cell_type": "markdown",
   "metadata": {},
   "source": [
    "### (2) Simulation 10000 times"
   ]
  },
  {
   "cell_type": "code",
   "execution_count": 47,
   "metadata": {},
   "outputs": [],
   "source": [
    "number_of_simulations = 10000\n",
    "\n",
    "\n",
    "do_i_reject_H0 = []\n",
    "do_i_fail_to_reject_H0 = []\n",
    "    \n",
    "for s in range(number_of_simulations):\n",
    "  \n",
    "    observations = generate_dataset(treatment_effects_H0)\n",
    "    hypothesis = 'H0'\n",
    "    \n",
    "    overall_empirical_mean = sum([sum(observations[l]) for l in populations])/total_sample_size\n",
    "    empirical_means_within_populations = {}\n",
    "    for l in populations:\n",
    "        empirical_means_within_populations[l] = sum(observations[l])/population_sizes[l]\n",
    "    # residuals\n",
    "    matrix_W0 = sum([ np.outer(observations[l][i,]-empirical_means_within_populations[l],\n",
    "                          observations[l][i,]-empirical_means_within_populations[l])\n",
    "                     for l in populations\n",
    "                     for i in range(population_sizes[l])\n",
    "                   ])\n",
    "    # treatment matrix\n",
    "    matrix_B0 = sum([ population_sizes[l] * \\\n",
    "                 np.outer(overall_empirical_mean-empirical_means_within_populations[l],\n",
    "                          overall_empirical_mean-empirical_means_within_populations[l])\n",
    "                     for l in populations\n",
    "                   ])\n",
    "    wilks_lambda0 = np.linalg.det(matrix_W0) / np.linalg.det(matrix_B0 + matrix_W0)\n",
    "    \n",
    "    test_statistic = ((total_sample_size-p-2)/p)*((1-np.sqrt(wilks_lambda0))/np.sqrt(wilks_lambda0))\n",
    "    quantiles_of_f_distribution = f.ppf(1-0.1, 2*p, 2*(total_sample_size-p-2))\n",
    "    \n",
    "    do_i_reject_H0.append(\n",
    "      test_statistic > quantiles_of_f_distribution\n",
    "    )\n",
    "    \n",
    "    do_i_fail_to_reject_H0.append(\n",
    "      test_statistic < quantiles_of_f_distribution\n",
    "    )\n",
    "    "
   ]
  },
  {
   "cell_type": "code",
   "execution_count": 48,
   "metadata": {},
   "outputs": [
    {
     "data": {
      "text/plain": [
       "994"
      ]
     },
     "execution_count": 48,
     "metadata": {},
     "output_type": "execute_result"
    }
   ],
   "source": [
    "sum(do_i_reject_H0)"
   ]
  },
  {
   "cell_type": "code",
   "execution_count": 49,
   "metadata": {},
   "outputs": [
    {
     "data": {
      "text/plain": [
       "9006"
      ]
     },
     "execution_count": 49,
     "metadata": {},
     "output_type": "execute_result"
    }
   ],
   "source": [
    "sum(do_i_fail_to_reject_H0)"
   ]
  },
  {
   "cell_type": "markdown",
   "metadata": {},
   "source": [
    "### Conclusion: There are approximately 1000 times (994times) out of 10000 that we reject H0 under H0. Therefore, we could vrify the methodology used in question 3."
   ]
  },
  {
   "cell_type": "code",
   "execution_count": null,
   "metadata": {},
   "outputs": [],
   "source": []
  },
  {
   "cell_type": "code",
   "execution_count": null,
   "metadata": {},
   "outputs": [],
   "source": []
  },
  {
   "cell_type": "code",
   "execution_count": null,
   "metadata": {},
   "outputs": [],
   "source": []
  },
  {
   "cell_type": "code",
   "execution_count": null,
   "metadata": {},
   "outputs": [],
   "source": []
  },
  {
   "cell_type": "code",
   "execution_count": null,
   "metadata": {},
   "outputs": [],
   "source": []
  },
  {
   "cell_type": "code",
   "execution_count": null,
   "metadata": {},
   "outputs": [],
   "source": []
  },
  {
   "cell_type": "code",
   "execution_count": null,
   "metadata": {},
   "outputs": [],
   "source": []
  },
  {
   "cell_type": "code",
   "execution_count": null,
   "metadata": {},
   "outputs": [],
   "source": []
  },
  {
   "cell_type": "code",
   "execution_count": null,
   "metadata": {},
   "outputs": [],
   "source": []
  },
  {
   "cell_type": "code",
   "execution_count": null,
   "metadata": {},
   "outputs": [],
   "source": []
  },
  {
   "cell_type": "code",
   "execution_count": null,
   "metadata": {},
   "outputs": [],
   "source": []
  },
  {
   "cell_type": "code",
   "execution_count": null,
   "metadata": {},
   "outputs": [],
   "source": []
  },
  {
   "cell_type": "code",
   "execution_count": null,
   "metadata": {},
   "outputs": [],
   "source": []
  },
  {
   "cell_type": "code",
   "execution_count": null,
   "metadata": {},
   "outputs": [],
   "source": []
  },
  {
   "cell_type": "code",
   "execution_count": null,
   "metadata": {},
   "outputs": [],
   "source": []
  },
  {
   "cell_type": "code",
   "execution_count": null,
   "metadata": {},
   "outputs": [],
   "source": []
  },
  {
   "cell_type": "code",
   "execution_count": null,
   "metadata": {},
   "outputs": [],
   "source": []
  },
  {
   "cell_type": "code",
   "execution_count": null,
   "metadata": {},
   "outputs": [],
   "source": []
  }
 ],
 "metadata": {
  "kernelspec": {
   "display_name": "Python 3",
   "language": "python",
   "name": "python3"
  },
  "language_info": {
   "codemirror_mode": {
    "name": "ipython",
    "version": 3
   },
   "file_extension": ".py",
   "mimetype": "text/x-python",
   "name": "python",
   "nbconvert_exporter": "python",
   "pygments_lexer": "ipython3",
   "version": "3.7.4"
  }
 },
 "nbformat": 4,
 "nbformat_minor": 2
}
